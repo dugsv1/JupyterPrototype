{
 "cells": [
  {
   "cell_type": "code",
   "execution_count": 1,
   "id": "07072e8f",
   "metadata": {
    "execution": {
     "iopub.execute_input": "2023-12-24T00:03:52.071689Z",
     "iopub.status.busy": "2023-12-24T00:03:52.071689Z",
     "iopub.status.idle": "2023-12-24T00:03:53.296907Z",
     "shell.execute_reply": "2023-12-24T00:03:53.296907Z"
    }
   },
   "outputs": [
    {
     "data": {
      "text/html": [
       "        <script type=\"text/javascript\">\n",
       "        window.PlotlyConfig = {MathJaxConfig: 'local'};\n",
       "        if (window.MathJax && window.MathJax.Hub && window.MathJax.Hub.Config) {window.MathJax.Hub.Config({SVG: {font: \"STIX-Web\"}});}\n",
       "        if (typeof require !== 'undefined') {\n",
       "        require.undef(\"plotly\");\n",
       "        requirejs.config({\n",
       "            paths: {\n",
       "                'plotly': ['https://cdn.plot.ly/plotly-2.12.1.min']\n",
       "            }\n",
       "        });\n",
       "        require(['plotly'], function(Plotly) {\n",
       "            window._Plotly = Plotly;\n",
       "        });\n",
       "        }\n",
       "        </script>\n",
       "        "
      ]
     },
     "metadata": {},
     "output_type": "display_data"
    }
   ],
   "source": [
    "# Imports\n",
    "\n",
    "# Import necessary libraries\n",
    "import pandas as pd\n",
    "import requests\n",
    "import matplotlib.pyplot as plt\n",
    "import seaborn as sns\n",
    "import numpy as np\n",
    "from IPython.display import Image\n",
    "import plotly.express as px\n",
    "import plotly.offline as pyo\n",
    "import plotly.graph_objs as go\n",
    "pyo.init_notebook_mode(connected=True)\n"
   ]
  },
  {
   "cell_type": "markdown",
   "id": "f60043ae",
   "metadata": {},
   "source": [
    "### Executive Summary\n",
    "\n",
    "\n",
    "## Automated Notebook for Code 3 Strategist Integration\n",
    "\n",
    "### Automated Jupyter Notebook Creation\n",
    "#### Integration with Code 3 Strategist\n",
    "\n",
    "As part of our continuous effort to streamline data analysis and simulation modeling, we have developed an automated Jupyter Notebook that seamlessly integrates with **Code 3 Strategist**. This notebook is designed to enhance our modeling capabilities, enabling faster insights and more dynamic interaction with simulation data.\n",
    "\n",
    "**Code 3 Strategist** is a sophisticated simulation modeling software used to analyze and predict complex systems. Our notebook acts as a complementary tool, allowing users to generate custom reports, visualize simulation results, and perform advanced data analysis through an intuitive, code-based interface.\n",
    "\n",
    "### Features of the Automated Notebook:\n",
    "- **Dynamic Content Generation:** Each notebook is automatically generated with predefined sections like 'Executive Summary', 'Chart Cell', and 'Map Cell', tailored to present the simulation results effectively.\n",
    "- **Direct Integration:** Seamlessly pulls data from Code 3 Strategist simulations, ensuring that the most up-to-date and relevant information is always at hand.\n",
    "- **Custom Visualizations:** Utilizes libraries like Matplotlib, Seaborn, and Plotly to create insightful charts and maps, enhancing the interpretability of complex data.\n",
    "- **Editable and Interactive:** While the notebook is auto-generated, users have the full flexibility to add, remove, or modify content as needed to suit specific analysis requirements.\n",
    "\n",
    "This automated solution represents a significant step forward in making simulation modeling more accessible and actionable. By bridging the gap between Code 3 Strategist and dynamic data analysis, we are empowering users to unlock deeper insights and drive strategic decision-making.\n",
    "\n",
    "For more information on how to use the automated notebook or to get started with your own simulations, please contact our support team or visit our documentation portal.\n"
   ]
  },
  {
   "cell_type": "code",
   "execution_count": 2,
   "id": "8fca71e8",
   "metadata": {
    "execution": {
     "iopub.execute_input": "2023-12-24T00:03:53.298913Z",
     "iopub.status.busy": "2023-12-24T00:03:53.298913Z",
     "iopub.status.idle": "2023-12-24T00:03:53.408797Z",
     "shell.execute_reply": "2023-12-24T00:03:53.408797Z"
    }
   },
   "outputs": [
    {
     "name": "stderr",
     "output_type": "stream",
     "text": [
      "D:\\Anaconda\\envs\\JupyterPrototype\\Lib\\site-packages\\seaborn\\_oldcore.py:1765: FutureWarning:\n",
      "\n",
      "unique with argument that is not not a Series, Index, ExtensionArray, or np.ndarray is deprecated and will raise in a future version.\n",
      "\n"
     ]
    },
    {
     "data": {
      "image/png": "[encoded data removed]",
      "text/plain": [
       "<Figure size 640x480 with 1 Axes>"
      ]
     },
     "metadata": {},
     "output_type": "display_data"
    }
   ],
   "source": [
    "# Chart Cell\n",
    "\n",
    "# Code to display a bar chart using Seaborn\n",
    "data = [4, 5, 6]\n",
    "labels = ['Category 1', 'Category 2', 'Category 3']\n",
    "sns.barplot(x=labels, y=data)\n",
    "plt.title('Sample Bar Chart')\n",
    "plt.show()\n"
   ]
  },
  {
   "cell_type": "code",
   "execution_count": 3,
   "id": "a5bb9383",
   "metadata": {
    "execution": {
     "iopub.execute_input": "2023-12-24T00:03:53.410805Z",
     "iopub.status.busy": "2023-12-24T00:03:53.410805Z",
     "iopub.status.idle": "2023-12-24T00:03:53.910394Z",
     "shell.execute_reply": "2023-12-24T00:03:53.910394Z"
    }
   },
   "outputs": [
    {
     "data": {
      "application/vnd.plotly.v1+json": {
       "config": {
        "plotlyServerURL": "https://plot.ly"
       },
       "data": [
        {
         "hovertemplate": "<b>%{hovertext}</b><br><br>lat=%{lat}<br>lon=%{lon}<extra></extra>",
         "hovertext": [
          "Point 1",
          "Point 2",
          "Point 3",
          "Point 4",
          "Point 5",
          "Point 6",
          "Point 7",
          "Point 8",
          "Point 9",
          "Point 10",
          "Point 11",
          "Point 12",
          "Point 13",
          "Point 14",
          "Point 15",
          "Point 16",
          "Point 17",
          "Point 18",
          "Point 19",
          "Point 20",
          "Point 21",
          "Point 22",
          "Point 23",
          "Point 24",
          "Point 25",
          "Point 26",
          "Point 27",
          "Point 28",
          "Point 29",
          "Point 30",
          "Point 31",
          "Point 32",
          "Point 33",
          "Point 34",
          "Point 35",
          "Point 36",
          "Point 37",
          "Point 38",
          "Point 39",
          "Point 40",
          "Point 41",
          "Point 42",
          "Point 43",
          "Point 44",
          "Point 45",
          "Point 46",
          "Point 47",
          "Point 48",
          "Point 49",
          "Point 50",
          "Point 51",
          "Point 52",
          "Point 53",
          "Point 54",
          "Point 55",
          "Point 56",
          "Point 57",
          "Point 58",
          "Point 59",
          "Point 60",
          "Point 61",
          "Point 62",
          "Point 63",
          "Point 64",
          "Point 65",
          "Point 66",
          "Point 67",
          "Point 68",
          "Point 69",
          "Point 70",
          "Point 71",
          "Point 72",
          "Point 73",
          "Point 74",
          "Point 75",
          "Point 76",
          "Point 77",
          "Point 78",
          "Point 79",
          "Point 80",
          "Point 81",
          "Point 82",
          "Point 83",
          "Point 84",
          "Point 85",
          "Point 86",
          "Point 87",
          "Point 88",
          "Point 89",
          "Point 90",
          "Point 91",
          "Point 92",
          "Point 93",
          "Point 94",
          "Point 95",
          "Point 96",
          "Point 97",
          "Point 98",
          "Point 99",
          "Point 100",
          "Point 101",
          "Point 102",
          "Point 103",
          "Point 104",
          "Point 105",
          "Point 106",
          "Point 107",
          "Point 108",
          "Point 109",
          "Point 110",
          "Point 111",
          "Point 112",
          "Point 113",
          "Point 114",
          "Point 115",
          "Point 116",
          "Point 117",
          "Point 118",
          "Point 119",
          "Point 120",
          "Point 121",
          "Point 122",
          "Point 123",
          "Point 124",
          "Point 125",
          "Point 126",
          "Point 127",
          "Point 128",
          "Point 129",
          "Point 130",
          "Point 131",
          "Point 132",
          "Point 133",
          "Point 134",
          "Point 135",
          "Point 136",
          "Point 137",
          "Point 138",
          "Point 139",
          "Point 140",
          "Point 141",
          "Point 142",
          "Point 143",
          "Point 144",
          "Point 145",
          "Point 146",
          "Point 147",
          "Point 148",
          "Point 149",
          "Point 150",
          "Point 151",
          "Point 152",
          "Point 153",
          "Point 154",
          "Point 155",
          "Point 156",
          "Point 157",
          "Point 158",
          "Point 159",
          "Point 160",
          "Point 161",
          "Point 162",
          "Point 163",
          "Point 164",
          "Point 165",
          "Point 166",
          "Point 167",
          "Point 168",
          "Point 169",
          "Point 170",
          "Point 171",
          "Point 172",
          "Point 173",
          "Point 174",
          "Point 175",
          "Point 176",
          "Point 177",
          "Point 178",
          "Point 179",
          "Point 180",
          "Point 181",
          "Point 182",
          "Point 183",
          "Point 184",
          "Point 185",
          "Point 186",
          "Point 187",
          "Point 188",
          "Point 189",
          "Point 190",
          "Point 191",
          "Point 192",
          "Point 193",
          "Point 194",
          "Point 195",
          "Point 196",
          "Point 197",
          "Point 198",
          "Point 199",
          "Point 200",
          "Point 201",
          "Point 202",
          "Point 203",
          "Point 204",
          "Point 205",
          "Point 206",
          "Point 207",
          "Point 208",
          "Point 209",
          "Point 210",
          "Point 211",
          "Point 212",
          "Point 213",
          "Point 214",
          "Point 215",
          "Point 216",
          "Point 217",
          "Point 218",
          "Point 219",
          "Point 220",
          "Point 221",
          "Point 222",
          "Point 223",
          "Point 224",
          "Point 225",
          "Point 226",
          "Point 227",
          "Point 228",
          "Point 229",
          "Point 230",
          "Point 231",
          "Point 232",
          "Point 233",
          "Point 234",
          "Point 235",
          "Point 236",
          "Point 237",
          "Point 238",
          "Point 239",
          "Point 240",
          "Point 241",
          "Point 242",
          "Point 243",
          "Point 244",
          "Point 245",
          "Point 246",
          "Point 247",
          "Point 248",
          "Point 249",
          "Point 250",
          "Point 251",
          "Point 252",
          "Point 253",
          "Point 254",
          "Point 255",
          "Point 256",
          "Point 257",
          "Point 258",
          "Point 259",
          "Point 260",
          "Point 261",
          "Point 262",
          "Point 263",
          "Point 264",
          "Point 265",
          "Point 266",
          "Point 267",
          "Point 268",
          "Point 269",
          "Point 270",
          "Point 271",
          "Point 272",
          "Point 273",
          "Point 274",
          "Point 275",
          "Point 276",
          "Point 277",
          "Point 278",
          "Point 279",
          "Point 280",
          "Point 281",
          "Point 282",
          "Point 283",
          "Point 284",
          "Point 285",
          "Point 286",
          "Point 287",
          "Point 288",
          "Point 289",
          "Point 290",
          "Point 291",
          "Point 292",
          "Point 293",
          "Point 294",
          "Point 295",
          "Point 296",
          "Point 297",
          "Point 298",
          "Point 299",
          "Point 300",
          "Point 301",
          "Point 302",
          "Point 303",
          "Point 304",
          "Point 305",
          "Point 306",
          "Point 307",
          "Point 308",
          "Point 309",
          "Point 310",
          "Point 311",
          "Point 312",
          "Point 313",
          "Point 314",
          "Point 315",
          "Point 316",
          "Point 317",
          "Point 318",
          "Point 319",
          "Point 320",
          "Point 321",
          "Point 322",
          "Point 323",
          "Point 324",
          "Point 325",
          "Point 326",
          "Point 327",
          "Point 328",
          "Point 329",
          "Point 330",
          "Point 331",
          "Point 332",
          "Point 333",
          "Point 334",
          "Point 335",
          "Point 336",
          "Point 337",
          "Point 338",
          "Point 339",
          "Point 340",
          "Point 341",
          "Point 342",
          "Point 343",
          "Point 344",
          "Point 345",
          "Point 346",
          "Point 347",
          "Point 348",
          "Point 349",
          "Point 350",
          "Point 351",
          "Point 352",
          "Point 353",
          "Point 354",
          "Point 355",
          "Point 356",
          "Point 357",
          "Point 358",
          "Point 359",
          "Point 360",
          "Point 361",
          "Point 362",
          "Point 363",
          "Point 364",
          "Point 365",
          "Point 366",
          "Point 367",
          "Point 368",
          "Point 369",
          "Point 370",
          "Point 371",
          "Point 372",
          "Point 373",
          "Point 374",
          "Point 375",
          "Point 376",
          "Point 377",
          "Point 378",
          "Point 379",
          "Point 380",
          "Point 381",
          "Point 382",
          "Point 383",
          "Point 384",
          "Point 385",
          "Point 386",
          "Point 387",
          "Point 388",
          "Point 389",
          "Point 390",
          "Point 391",
          "Point 392",
          "Point 393",
          "Point 394",
          "Point 395",
          "Point 396",
          "Point 397",
          "Point 398",
          "Point 399",
          "Point 400",
          "Point 401",
          "Point 402",
          "Point 403",
          "Point 404",
          "Point 405",
          "Point 406",
          "Point 407",
          "Point 408",
          "Point 409",
          "Point 410",
          "Point 411",
          "Point 412",
          "Point 413",
          "Point 414",
          "Point 415",
          "Point 416",
          "Point 417",
          "Point 418",
          "Point 419",
          "Point 420",
          "Point 421",
          "Point 422",
          "Point 423",
          "Point 424",
          "Point 425",
          "Point 426",
          "Point 427",
          "Point 428",
          "Point 429",
          "Point 430",
          "Point 431",
          "Point 432",
          "Point 433",
          "Point 434",
          "Point 435",
          "Point 436",
          "Point 437",
          "Point 438",
          "Point 439",
          "Point 440",
          "Point 441",
          "Point 442",
          "Point 443",
          "Point 444",
          "Point 445",
          "Point 446",
          "Point 447",
          "Point 448",
          "Point 449",
          "Point 450",
          "Point 451",
          "Point 452",
          "Point 453",
          "Point 454",
          "Point 455",
          "Point 456",
          "Point 457",
          "Point 458",
          "Point 459",
          "Point 460",
          "Point 461",
          "Point 462",
          "Point 463",
          "Point 464",
          "Point 465",
          "Point 466",
          "Point 467",
          "Point 468",
          "Point 469",
          "Point 470",
          "Point 471",
          "Point 472",
          "Point 473",
          "Point 474",
          "Point 475",
          "Point 476",
          "Point 477",
          "Point 478",
          "Point 479",
          "Point 480",
          "Point 481",
          "Point 482",
          "Point 483",
          "Point 484",
          "Point 485",
          "Point 486",
          "Point 487",
          "Point 488",
          "Point 489",
          "Point 490",
          "Point 491",
          "Point 492",
          "Point 493",
          "Point 494",
          "Point 495",
          "Point 496",
          "Point 497",
          "Point 498",
          "Point 499",
          "Point 500"
         ],
         "lat": [
          44.56956714153011,
          44.56321735698829,
          44.571076885381004,
          44.579830298564076,
          44.562258466252764,
          44.562258630430506,
          44.580392128155076,
          44.572274347291525,
          44.55990525614065,
          44.570025600435855,
          44.55996582307188,
          44.5599427024643,
          44.56701962271566,
          44.54546719755342,
          44.54735082167487,
          44.55897712470759,
          44.55447168879665,
          44.56774247332595,
          44.55551975924479,
          44.55047696298664,
          44.579256487689214,
          44.562342236995136,
          44.565275282046876,
          44.55035251813786,
          44.55915617275475,
          44.565709225897095,
          44.55309006422578,
          44.56835698018345,
          44.55859361310081,
          44.56168306250206,
          44.5585829338777,
          44.58312278184509,
          44.56446502775262,
          44.55402289071044,
          44.572825449121034,
          44.55239156350029,
          44.566688635950044,
          44.5450032987612,
          44.55131813951101,
          44.56656861235869,
          44.57198466579995,
          44.566313682811895,
          44.56344351717612,
          44.56158896304411,
          44.54981478009633,
          44.55740155791605,
          44.5599936122904,
          44.575171222262185,
          44.56803618289568,
          44.546969598446374,
          44.56784083969394,
          44.56074917719584,
          44.55783077999694,
          44.57071676288841,
          44.57490999522496,
          44.57391280119116,
          44.556207824767775,
          44.561507876241485,
          44.567912634314034,
          44.574355451271224,
          44.55980825762155,
          44.56274341023336,
          44.553536650259936,
          44.55263793375919,
          44.57272525822394,
          44.578162400285706,
          44.563879898784194,
          44.57463532897892,
          44.568216360250474,
          44.55814880245395,
          44.56821395605508,
          44.57998036566466,
          44.564241739608896,
          44.58024643655814,
          44.5384025489591,
          44.57281902504375,
          44.56547047068238,
          44.56160992649534,
          44.56551760776535,
          44.54472431085399,
          44.562403281121625,
          44.56817112571512,
          44.57937894044741,
          44.55941729781726,
          44.55651506397107,
          44.55958242956415,
          44.57375402117702,
          44.56788751109659,
          44.55930239796233,
          44.569732674331135,
          44.56557077549348,
          44.57428644990533,
          44.557579469061224,
          44.56132337853402,
          44.560678918468675,
          44.54996485051868,
          44.56756120277065,
          44.5672105527218,
          44.564651134566425,
          44.56225412866625,
          44.550446292579494,
          44.560393546772346,
          44.56117285483473,
          44.556577227307784,
          44.56298714288334,
          44.568640508568144,
          44.583461859012104,
          44.566345778128316,
          44.56717550390723,
          44.56385554084234,
          44.54541228784701,
          44.564334861245506,
          44.56520230209941,
          44.589232421124855,
          44.56267639035219,
          44.56761547342334,
          44.564252882302945,
          44.552913219623804,
          44.57602822814515,
          44.57211933032686,
          44.57251031947043,
          44.55550612545205,
          44.57862794310936,
          44.55058148937208,
          44.570468570938004,
          44.5865045562581,
          44.55469463674869,
          44.55893702270397,
          44.565596513650874,
          44.559565243458835,
          44.54909336568934,
          44.56528562974806,
          44.55397696286274,
          44.56933592430635,
          44.55540575765766,
          44.580099344050176,
          44.55676746707664,
          44.56137938483794,
          44.572735172173694,
          44.55229135683566,
          44.56687459934604,
          44.577671427542825,
          44.54852516765439,
          44.56644633858532,
          44.567198827942484,
          44.57241822871777,
          44.55223049289122,
          44.55139543386915,
          44.56981941565617,
          44.56756984673233,
          44.567104928503454,
          44.56806448209497,
          44.55779975278421,
          44.56692253697161,
          44.56753072473298,
          44.557456485819735,
          44.583257745111446,
          44.56933832920912,
          44.55268696502797,
          44.57116553608634,
          44.55485318329772,
          44.572470846037426,
          44.57618595579007,
          44.556393176816485,
          44.57423376129244,
          44.56872780926936,
          44.57282060159994,
          44.583567929826536,
          44.56214611883997,
          44.55706263835642,
          44.555704855703745,
          44.55644189715034,
          44.56382898290586,
          44.56801151974817,
          44.567366907993296,
          44.57287183249036,
          44.56473001891878,
          44.57913534077157,
          44.56195343166762,
          44.59180169166589,
          44.57085667347765,
          44.55602842443584,
          44.553891075019386,
          44.569424724152434,
          44.56236537214674,
          44.57174000494092,
          44.56933237624573,
          44.56387171087343,
          44.556132062819316,
          44.54945152775314,
          44.56013485047933,
          44.57316398794323,
          44.5667409374413,
          44.552142612212876,
          44.56633180925851,
          44.56845317379729,
          44.55576142563799,
          44.56613725105945,
          44.56518208718446,
          44.553170297021694,
          44.56817787360348,
          44.57020784526368,
          44.57543051243175,
          44.57513802052035,
          44.550823306320424,
          44.55522174960085,
          44.56975035267209,
          44.56973785950912,
          44.56975047686306,
          44.603127314906544,
          44.57030890510693,
          44.5759556564018,
          44.57414001763493,
          44.571113912513056,
          44.56144730755359,
          44.57218969220493,
          44.55687174785462,
          44.5622318139326,
          44.55974636452171,
          44.56541874139386,
          44.587746585666736,
          44.54592734807408,
          44.57146260190375,
          44.5484728412881,
          44.55988068134211,
          44.57548950596967,
          44.56524280019095,
          44.55382255222071,
          44.5574469629074,
          44.571395977489345,
          44.55729633368283,
          44.56676458589582,
          44.56505571839904,
          44.55808399652394,
          44.58603944089325,
          44.57093919022318,
          44.54434857413342,
          44.566464543147696,
          44.55798213535231,
          44.57312433334796,
          44.556674792615674,
          44.56345263558533,
          44.5696498727898,
          44.5732575519417,
          44.55259703592944,
          44.56125498764159,
          44.55985054688839,
          44.558066707674264,
          44.58225454240281,
          44.56864981710961,
          44.55199116045665,
          44.573778619470545,
          44.58582156197013,
          44.57492465260551,
          44.54940630034046,
          44.559757659271334,
          44.577269111491866,
          44.557523305343814,
          44.56903819428146,
          44.572346340534295,
          44.55533069528422,
          44.56400474643938,
          44.532187326599306,
          44.55435612358666,
          44.56207431848607,
          44.55212216818035,
          44.580924113039316,
          44.55029858622039,
          44.56019955513303,
          44.56590740577286,
          44.57901273289066,
          44.5502413784882,
          44.576231637521545,
          44.564702330610196,
          44.55478491348952,
          44.56922103474263,
          44.566590596955734,
          44.55859783122841,
          44.5652980208499,
          44.56074686403138,
          44.56573517345251,
          44.57122130674521,
          44.58046016816145,
          44.55222184501173,
          44.58593033374656,
          44.54507912200477,
          44.56308214904964,
          44.57048317206485,
          44.56740991867735,
          44.558373004801794,
          44.56251877749643,
          44.55966999065341,
          44.558706352430555,
          44.57309602097021,
          44.56817015485965,
          44.55767090404739,
          44.57359599875433,
          44.56767299520877,
          44.57272862118839,
          44.570896288419235,
          44.556310049890776,
          44.55899818959803,
          44.57207293605123,
          44.570703702654335,
          44.56439098406036,
          44.56577327383309,
          44.57737664895788,
          44.55868428611164,
          44.570070973811696,
          44.56257807347566,
          44.562423187967724,
          44.575587768519874,
          44.57285416348988,
          44.572735096360006,
          44.57765478807154,
          44.564810038416326,
          44.57141952971295,
          44.561497332434065,
          44.56784166352488,
          44.56329856945632,
          44.56556995964993,
          44.570551570254366,
          44.55641779316766,
          44.58552387275685,
          44.554539826185,
          44.55245811387212,
          44.576181108735,
          44.57251662693963,
          44.57084119817052,
          44.57088345509264,
          44.56447753227153,
          44.55562745628514,
          44.56535804558194,
          44.55782838288488,
          44.574351197334174,
          44.56312942618498,
          44.55634502803208,
          44.56138614158347,
          44.56872931454276,
          44.558962754471956,
          44.55637779604434,
          44.56703687211492,
          44.56704966571109,
          44.55953056824629,
          44.55988961694381,
          44.56692049937357,
          44.550119156585026,
          44.55052536225623,
          44.55741555778747,
          44.56246552848288,
          44.567709075655976,
          44.579353562169494,
          44.57317659623202,
          44.563000614700364,
          44.56440983792097,
          44.55457470635362,
          44.56441486864008,
          44.561713413610796,
          44.56782718560338,
          44.55632769056447,
          44.56979346514241,
          44.57992738913003,
          44.56351239851543,
          44.56861711722099,
          44.57150143991711,
          44.56058779528114,
          44.5668409248181,
          44.56472592400782,
          44.565576760985486,
          44.556869902161445,
          44.56484510174259,
          44.56957998291245,
          44.57911143607795,
          44.57419270826085,
          44.58613182457511,
          44.55692652437112,
          44.573323206367206,
          44.56643342005738,
          44.586498029332176,
          44.55651701714645,
          44.55620278157819,
          44.55860607354556,
          44.5433610427569,
          44.55934244978319,
          44.55700867338446,
          44.56610393786476,
          44.56801755975777,
          44.58336170839216,
          44.57410423838186,
          44.55883096344338,
          44.55561585328652,
          44.56951919171507,
          44.55139766792979,
          44.58291458765854,
          44.57639440120721,
          44.55990824347895,
          44.54746865470909,
          44.57813872374165,
          44.56345460154747,
          44.57697816311973,
          44.548655723412054,
          44.55860624977046,
          44.56465243699718,
          44.56506980593765,
          44.56009934528521,
          44.570828499323476,
          44.553923795706176,
          44.56317620514979,
          44.56580295631712,
          44.56974438834059,
          44.57171614878089,
          44.55335357908162,
          44.549258858292646,
          44.57737676821898,
          44.567923140119795,
          44.55711513463444,
          44.58011151975522,
          44.56575674634293,
          44.57639297184064,
          44.5652751848141,
          44.585207479248815,
          44.58215340842443,
          44.562110358515206,
          44.57431570950954,
          44.57105375949585,
          44.57828631557532,
          44.554950765394196,
          44.571460514599984,
          44.575184244868495,
          44.54701260513577,
          44.552767414873344,
          44.5442076782224,
          44.56190593165555,
          44.571775422557955,
          44.57962357052096,
          44.565340947804195,
          44.58088615545571,
          44.55079898541785,
          44.54756617560645,
          44.564044523011034,
          44.56844065448939,
          44.564273052519056,
          44.5439255789996,
          44.56370879960487,
          44.55155530499495,
          44.5712967254883,
          44.568265982460964,
          44.55520120213672,
          44.55946133082663,
          44.554007864781106,
          44.56397320902727,
          44.57415142320501,
          44.55474273953664,
          44.569640465155175,
          44.559297423816275,
          44.556671271677374,
          44.56352969640045,
          44.55424757677581,
          44.55906350694653,
          44.55262122107411,
          44.58424725132916,
          44.56495263551972,
          44.557602744920075,
          44.56673979910734,
          44.56347671950309,
          44.562390304004666,
          44.57074166700043,
          44.572175077100475,
          44.559294988523895,
          44.55884181759355,
          44.56184948302848,
          44.54158078835264,
          44.54944808937801,
          44.578268742674446,
          44.58104967713501,
          44.56210963960444,
          44.57036556963055,
          44.56771250154544,
          44.59538880808455,
          44.57579574911434,
          44.56332082408519,
          44.555044595594,
          44.548535536797424,
          44.56663463635867,
          44.557036492547155,
          44.550377462904024,
          44.55813427115757,
          44.553784519963855,
          44.58147141635072,
          44.573416397569495,
          44.56452027358683,
          44.5793994413889,
          44.56537368307647,
          44.55598715798671,
          44.5798312407727,
          44.56998910043684,
          44.554227538456736,
          44.56269661321916,
          44.555843817466155,
          44.55077200269036
         ],
         "legendgroup": "",
         "lon": [
          -123.25273822452468,
          -123.2429058335953,
          -123.2759856757382,
          -123.25637030763309,
          -123.26850642569121,
          -123.26687125383765,
          -123.2679239392424,
          -123.2706399076968,
          -123.26151478372056,
          -123.2703095011641,
          -123.2592954317422,
          -123.26250238109449,
          -123.26438948046867,
          -123.27107563662041,
          -123.26776771330569,
          -123.25444608774174,
          -123.25699082812376,
          -123.27177555244799,
          -123.26100667694571,
          -123.25448612876629,
          -123.27869405281122,
          -123.2565663980762,
          -123.26862623758946,
          -123.25629401331408,
          -123.26963259156543,
          -123.28004882100664,
          -123.27827542437883,
          -123.26151915053339,
          -123.25940277498279,
          -123.27104316625105,
          -123.25561407541223,
          -123.2786152006227,
          -123.26266079798647,
          -123.27411016199763,
          -123.26851836107802,
          -123.26152601328684,
          -123.27060413365284,
          -123.2658455554423,
          -123.25193707190786,
          -123.26776891869523,
          -123.25364307887935,
          -123.27329706854658,
          -123.25670195822084,
          -123.24758431379342,
          -123.28671644500128,
          -123.2699689525547,
          -123.2562292787282,
          -123.26403045386043,
          -123.25828854126628,
          -123.26803985186716,
          -123.26113410212527,
          -123.26355677235392,
          -123.2503221793834,
          -123.25945579156699,
          -123.25862397337924,
          -123.26611876966122,
          -123.26687606224073,
          -123.26632558187819,
          -123.25805547857622,
          -123.2662098448082,
          -123.25910225143103,
          -123.24124599201355,
          -123.25328875296569,
          -123.26526023532168,
          -123.24998786077836,
          -123.26608075373022,
          -123.28238124535179,
          -123.27208086310918,
          -123.28070791921026,
          -123.26551513484041,
          -123.2618158162081,
          -123.24523562687725,
          -123.25873072626236,
          -123.26419100528808,
          -123.25370594418817,
          -123.28411135309008,
          -123.25964385441891,
          -123.25429134806113,
          -123.2767858624578,
          -123.25056245956793,
          -123.25861503592506,
          -123.26615287913901,
          -123.25567218133894,
          -123.23929307142195,
          -123.26018133744941,
          -123.259517794137,
          -123.26659360899541,
          -123.27049844369465,
          -123.25369664183455,
          -123.27056083825909,
          -123.26128433762781,
          -123.26677657446766,
          -123.25721020174254,
          -123.25866337894713,
          -123.25162460055742,
          -123.26710016398854,
          -123.26469874935293,
          -123.27178763715783,
          -123.26644293260077,
          -123.25822699506955,
          -123.25443011383355,
          -123.27122165324178,
          -123.25330394079894,
          -123.24844362141195,
          -123.25786565096776,
          -123.24323204187442,
          -123.26973789199104,
          -123.27444654703311,
          -123.27978720248905,
          -123.24703955688511,
          -123.25545634343646,
          -123.2625558467091,
          -123.2592003137368,
          -123.27325489047298,
          -123.23754248020383,
          -123.26070778818024,
          -123.26090605205395,
          -123.25474233376102,
          -123.25718990768263,
          -123.2597611597572,
          -123.26990474455445,
          -123.25728531642864,
          -123.24317975503526,
          -123.24854579953845,
          -123.2460681337336,
          -123.26711215676431,
          -123.27189604820259,
          -123.263257869201,
          -123.26144275087711,
          -123.25105808481528,
          -123.27892464629714,
          -123.24670449680539,
          -123.2635800789858,
          -123.26626881069947,
          -123.2721210437526,
          -123.27854856671865,
          -123.25376829416038,
          -123.26126682032812,
          -123.27489960899742,
          -123.27495078772064,
          -123.2653578469929,
          -123.2453097847471,
          -123.26459591351363,
          -123.27703142953118,
          -123.26445743064086,
          -123.26472723569748,
          -123.28896886642941,
          -123.26254294866519,
          -123.26430934530208,
          -123.25503793635187,
          -123.24351043905055,
          -123.25073434970453,
          -123.26468888690555,
          -123.27306525908742,
          -123.2362664019675,
          -123.26140781565985,
          -123.26186070708087,
          -123.2622412508711,
          -123.26001915239232,
          -123.26344360411925,
          -123.2677366200688,
          -123.2674685894124,
          -123.26232753270216,
          -123.26743424771134,
          -123.26912845782677,
          -123.26093569772308,
          -123.2645497721742,
          -123.24696007011417,
          -123.28850969808393,
          -123.25108493148078,
          -123.24953914807503,
          -123.28273390232408,
          -123.2654268759408,
          -123.26571440865996,
          -123.27607511694718,
          -123.26977816687591,
          -123.27310575845466,
          -123.24447729556576,
          -123.25264321606852,
          -123.24928444905007,
          -123.25478327935957,
          -123.27329051771217,
          -123.26724520266279,
          -123.25710625438772,
          -123.27422127808892,
          -123.25487001569827,
          -123.26440325398158,
          -123.2657482080755,
          -123.25489040031796,
          -123.25755736688514,
          -123.26560966165819,
          -123.25040670196636,
          -123.272810633276,
          -123.25584064393055,
          -123.25606898742032,
          -123.26509546439314,
          -123.25873866977759,
          -123.27451113576386,
          -123.25275972980793,
          -123.26384902136444,
          -123.2672272302052,
          -123.25150990774164,
          -123.26904343690543,
          -123.27608461296363,
          -123.27756629173524,
          -123.25593990048654,
          -123.27480429352497,
          -123.24445205818016,
          -123.28281929407883,
          -123.2450354363171,
          -123.25988982532797,
          -123.2629671311187,
          -123.26744919086809,
          -123.25800863885648,
          -123.26237634702424,
          -123.25096698117983,
          -123.26085772351338,
          -123.26049698238538,
          -123.26563612212215,
          -123.26256945623722,
          -123.25892198231108,
          -123.27910168392657,
          -123.27548185422106,
          -123.25456735905978,
          -123.26029134561873,
          -123.26383983336353,
          -123.26181566066934,
          -123.25852418294639,
          -123.2673975968031,
          -123.26978304725402,
          -123.26004154744902,
          -123.27178372777615,
          -123.25791747244286,
          -123.27902583604238,
          -123.25170844362674,
          -123.25727402517587,
          -123.25943970265686,
          -123.25217309016054,
          -123.24534525555538,
          -123.25185629934983,
          -123.28040874231331,
          -123.27479576966736,
          -123.26824818577695,
          -123.2617390894979,
          -123.2568234097953,
          -123.26925743813153,
          -123.26013233235523,
          -123.26955382932353,
          -123.26811517802992,
          -123.27606661096848,
          -123.27123233246111,
          -123.27551684605616,
          -123.27175873252978,
          -123.25146358203392,
          -123.27149398888832,
          -123.23567617935163,
          -123.2570668209912,
          -123.26015163876305,
          -123.27058357780182,
          -123.25499690120591,
          -123.26775637826238,
          -123.26077990185355,
          -123.23639915461732,
          -123.26296059899725,
          -123.25050726673715,
          -123.26903176425125,
          -123.26234988490496,
          -123.24429199364364,
          -123.26826967057788,
          -123.24387551442003,
          -123.25492248064545,
          -123.26762466775894,
          -123.25567592260944,
          -123.25227445550374,
          -123.25578190037783,
          -123.2777022471989,
          -123.26927137175825,
          -123.26447518635551,
          -123.262744334291,
          -123.25579327902449,
          -123.26022298999067,
          -123.27535344358711,
          -123.25819802148995,
          -123.25589414254716,
          -123.25640209552068,
          -123.25119219274445,
          -123.25366077845452,
          -123.25740819920772,
          -123.26270165711459,
          -123.27860960933516,
          -123.25770381780868,
          -123.25992312312837,
          -123.25928421162804,
          -123.2747674857582,
          -123.27281056540409,
          -123.25146847146667,
          -123.26239555153856,
          -123.25518499302628,
          -123.26171681623869,
          -123.26170243860504,
          -123.25261716194024,
          -123.26716044728218,
          -123.2610387922306,
          -123.26662275288705,
          -123.26634496227432,
          -123.26509172123468,
          -123.25977866228367,
          -123.26678748621663,
          -123.24944243874427,
          -123.2709460730222,
          -123.26386871644162,
          -123.26639731058275,
          -123.24753022115647,
          -123.26003445223489,
          -123.25168155460531,
          -123.27685560373037,
          -123.25932949734131,
          -123.25310369204377,
          -123.26117716010725,
          -123.25134519624935,
          -123.26717288450101,
          -123.24790652559814,
          -123.2390110187638,
          -123.2656283856044,
          -123.26645502521401,
          -123.24746615522882,
          -123.24620427854269,
          -123.26722860027154,
          -123.26620186817095,
          -123.2648178460886,
          -123.27544450511034,
          -123.27118651946485,
          -123.27204140766752,
          -123.26967797565104,
          -123.26234684887388,
          -123.25965785267464,
          -123.24649499507186,
          -123.27198354040739,
          -123.25215677601524,
          -123.26413988844226,
          -123.26249463709652,
          -123.25525180507833,
          -123.27322722021562,
          -123.25817590253816,
          -123.26033547791786,
          -123.25707548735991,
          -123.25910831356092,
          -123.23744699860089,
          -123.2683773998425,
          -123.26730996955001,
          -123.26823140526425,
          -123.2675547711916,
          -123.26837387127307,
          -123.25010983468893,
          -123.2477949575201,
          -123.2677074629375,
          -123.27032355573104,
          -123.25728584443614,
          -123.26752223044281,
          -123.25567068182245,
          -123.2599707697915,
          -123.27715744114997,
          -123.2465249479867,
          -123.24404122326905,
          -123.26812788690485,
          -123.26587701559936,
          -123.25914134609275,
          -123.25865543210013,
          -123.25541455727327,
          -123.24189795461234,
          -123.26376947227494,
          -123.26998297244539,
          -123.27579319228015,
          -123.26930930039941,
          -123.26233126972873,
          -123.24405442136482,
          -123.26717611299036,
          -123.25976212048361,
          -123.26216422896073,
          -123.25011606726552,
          -123.23673067574127,
          -123.2673086877292,
          -123.26689439442518,
          -123.25155839122931,
          -123.25518108510374,
          -123.24353292674265,
          -123.25616071814675,
          -123.26559292090788,
          -123.25609345169308,
          -123.25091296419417,
          -123.25379517818803,
          -123.25692725968892,
          -123.25133325310411,
          -123.25030704409555,
          -123.24817841008962,
          -123.2555129011241,
          -123.26367118080317,
          -123.26053286313567,
          -123.24993491033491,
          -123.27016935670987,
          -123.25831326691127,
          -123.26593338812327,
          -123.26171255177066,
          -123.24921548137392,
          -123.2600890093198,
          -123.26153563451844,
          -123.2755985614098,
          -123.25453746433973,
          -123.2555451581886,
          -123.24036745276695,
          -123.26507778234954,
          -123.25980849672337,
          -123.2595061631629,
          -123.24622546720236,
          -123.26295295532387,
          -123.2592097847423,
          -123.25592103490284,
          -123.26013390876844,
          -123.2664643361455,
          -123.26005910007102,
          -123.2512636825014,
          -123.27226515299411,
          -123.26067030325854,
          -123.26900120814939,
          -123.25004953371075,
          -123.27723186904784,
          -123.26758921847272,
          -123.25822788124935,
          -123.24634475970765,
          -123.26265750261074,
          -123.26755199526693,
          -123.24318842930559,
          -123.27648013900416,
          -123.2839880595662,
          -123.25759985549946,
          -123.26702054224353,
          -123.2722123281713,
          -123.25491643552701,
          -123.25956199286229,
          -123.26764078630737,
          -123.27480304398671,
          -123.2532754267172,
          -123.25549798822041,
          -123.2629917586378,
          -123.24353363003952,
          -123.27270084766326,
          -123.27725525170925,
          -123.26891908069881,
          -123.26245586016356,
          -123.25956660550678,
          -123.26441236057856,
          -123.25847944603485,
          -123.2745153942419,
          -123.24756235395927,
          -123.26282151178393,
          -123.25082704168412,
          -123.25857274653622,
          -123.25743246780846,
          -123.25630232719767,
          -123.25752291439983,
          -123.25557277240132,
          -123.24870847469867,
          -123.26003478830299,
          -123.25490996242412,
          -123.26289735694287,
          -123.24759882784551,
          -123.26876392302059,
          -123.2439905956709,
          -123.26240157950645,
          -123.27630775102118,
          -123.26071895585089,
          -123.26881051657475,
          -123.25359356451011,
          -123.26852623979302,
          -123.26646183433215,
          -123.28089540730946,
          -123.2665230631925,
          -123.28623879326629,
          -123.27783902823485,
          -123.25439585343855,
          -123.25414199841349,
          -123.25774542438215,
          -123.2716697614313,
          -123.26247711356142,
          -123.26203602539091,
          -123.27358364689192,
          -123.24696601698233,
          -123.25322637709425,
          -123.26420964173829,
          -123.26173114161006,
          -123.25991617192052,
          -123.28241734868425,
          -123.2644717738252,
          -123.26881984247999,
          -123.27201620009895,
          -123.26481100292887,
          -123.2440231347315,
          -123.25559157138733,
          -123.26771178989783,
          -123.25627417218644
         ],
         "marker": {
          "color": "#636efa"
         },
         "mode": "markers",
         "name": "",
         "showlegend": false,
         "subplot": "mapbox",
         "type": "scattermapbox"
        }
       ],
       "layout": {
        "legend": {
         "tracegroupgap": 0
        },
        "mapbox": {
         "center": {
          "lat": 44.564668379945886,
          "lon": -123.26168173882944
         },
         "domain": {
          "x": [
           0.0,
           1.0
          ],
          "y": [
           0.0,
           1.0
          ]
         },
         "style": "open-street-map",
         "zoom": 12
        },
        "margin": {
         "b": 0,
         "l": 0,
         "r": 0,
         "t": 0
        },
        "template": {
         "data": {
          "bar": [
           {
            "error_x": {
             "color": "#2a3f5f"
            },
            "error_y": {
             "color": "#2a3f5f"
            },
            "marker": {
             "line": {
              "color": "#E5ECF6",
              "width": 0.5
             },
             "pattern": {
              "fillmode": "overlay",
              "size": 10,
              "solidity": 0.2
             }
            },
            "type": "bar"
           }
          ],
          "barpolar": [
           {
            "marker": {
             "line": {
              "color": "#E5ECF6",
              "width": 0.5
             },
             "pattern": {
              "fillmode": "overlay",
              "size": 10,
              "solidity": 0.2
             }
            },
            "type": "barpolar"
           }
          ],
          "carpet": [
           {
            "aaxis": {
             "endlinecolor": "#2a3f5f",
             "gridcolor": "white",
             "linecolor": "white",
             "minorgridcolor": "white",
             "startlinecolor": "#2a3f5f"
            },
            "baxis": {
             "endlinecolor": "#2a3f5f",
             "gridcolor": "white",
             "linecolor": "white",
             "minorgridcolor": "white",
             "startlinecolor": "#2a3f5f"
            },
            "type": "carpet"
           }
          ],
          "choropleth": [
           {
            "colorbar": {
             "outlinewidth": 0,
             "ticks": ""
            },
            "type": "choropleth"
           }
          ],
          "contour": [
           {
            "colorbar": {
             "outlinewidth": 0,
             "ticks": ""
            },
            "colorscale": [
             [
              0.0,
              "#0d0887"
             ],
             [
              0.1111111111111111,
              "#46039f"
             ],
             [
              0.2222222222222222,
              "#7201a8"
             ],
             [
              0.3333333333333333,
              "#9c179e"
             ],
             [
              0.4444444444444444,
              "#bd3786"
             ],
             [
              0.5555555555555556,
              "#d8576b"
             ],
             [
              0.6666666666666666,
              "#ed7953"
             ],
             [
              0.7777777777777778,
              "#fb9f3a"
             ],
             [
              0.8888888888888888,
              "#fdca26"
             ],
             [
              1.0,
              "#f0f921"
             ]
            ],
            "type": "contour"
           }
          ],
          "contourcarpet": [
           {
            "colorbar": {
             "outlinewidth": 0,
             "ticks": ""
            },
            "type": "contourcarpet"
           }
          ],
          "heatmap": [
           {
            "colorbar": {
             "outlinewidth": 0,
             "ticks": ""
            },
            "colorscale": [
             [
              0.0,
              "#0d0887"
             ],
             [
              0.1111111111111111,
              "#46039f"
             ],
             [
              0.2222222222222222,
              "#7201a8"
             ],
             [
              0.3333333333333333,
              "#9c179e"
             ],
             [
              0.4444444444444444,
              "#bd3786"
             ],
             [
              0.5555555555555556,
              "#d8576b"
             ],
             [
              0.6666666666666666,
              "#ed7953"
             ],
             [
              0.7777777777777778,
              "#fb9f3a"
             ],
             [
              0.8888888888888888,
              "#fdca26"
             ],
             [
              1.0,
              "#f0f921"
             ]
            ],
            "type": "heatmap"
           }
          ],
          "heatmapgl": [
           {
            "colorbar": {
             "outlinewidth": 0,
             "ticks": ""
            },
            "colorscale": [
             [
              0.0,
              "#0d0887"
             ],
             [
              0.1111111111111111,
              "#46039f"
             ],
             [
              0.2222222222222222,
              "#7201a8"
             ],
             [
              0.3333333333333333,
              "#9c179e"
             ],
             [
              0.4444444444444444,
              "#bd3786"
             ],
             [
              0.5555555555555556,
              "#d8576b"
             ],
             [
              0.6666666666666666,
              "#ed7953"
             ],
             [
              0.7777777777777778,
              "#fb9f3a"
             ],
             [
              0.8888888888888888,
              "#fdca26"
             ],
             [
              1.0,
              "#f0f921"
             ]
            ],
            "type": "heatmapgl"
           }
          ],
          "histogram": [
           {
            "marker": {
             "pattern": {
              "fillmode": "overlay",
              "size": 10,
              "solidity": 0.2
             }
            },
            "type": "histogram"
           }
          ],
          "histogram2d": [
           {
            "colorbar": {
             "outlinewidth": 0,
             "ticks": ""
            },
            "colorscale": [
             [
              0.0,
              "#0d0887"
             ],
             [
              0.1111111111111111,
              "#46039f"
             ],
             [
              0.2222222222222222,
              "#7201a8"
             ],
             [
              0.3333333333333333,
              "#9c179e"
             ],
             [
              0.4444444444444444,
              "#bd3786"
             ],
             [
              0.5555555555555556,
              "#d8576b"
             ],
             [
              0.6666666666666666,
              "#ed7953"
             ],
             [
              0.7777777777777778,
              "#fb9f3a"
             ],
             [
              0.8888888888888888,
              "#fdca26"
             ],
             [
              1.0,
              "#f0f921"
             ]
            ],
            "type": "histogram2d"
           }
          ],
          "histogram2dcontour": [
           {
            "colorbar": {
             "outlinewidth": 0,
             "ticks": ""
            },
            "colorscale": [
             [
              0.0,
              "#0d0887"
             ],
             [
              0.1111111111111111,
              "#46039f"
             ],
             [
              0.2222222222222222,
              "#7201a8"
             ],
             [
              0.3333333333333333,
              "#9c179e"
             ],
             [
              0.4444444444444444,
              "#bd3786"
             ],
             [
              0.5555555555555556,
              "#d8576b"
             ],
             [
              0.6666666666666666,
              "#ed7953"
             ],
             [
              0.7777777777777778,
              "#fb9f3a"
             ],
             [
              0.8888888888888888,
              "#fdca26"
             ],
             [
              1.0,
              "#f0f921"
             ]
            ],
            "type": "histogram2dcontour"
           }
          ],
          "mesh3d": [
           {
            "colorbar": {
             "outlinewidth": 0,
             "ticks": ""
            },
            "type": "mesh3d"
           }
          ],
          "parcoords": [
           {
            "line": {
             "colorbar": {
              "outlinewidth": 0,
              "ticks": ""
             }
            },
            "type": "parcoords"
           }
          ],
          "pie": [
           {
            "automargin": true,
            "type": "pie"
           }
          ],
          "scatter": [
           {
            "fillpattern": {
             "fillmode": "overlay",
             "size": 10,
             "solidity": 0.2
            },
            "type": "scatter"
           }
          ],
          "scatter3d": [
           {
            "line": {
             "colorbar": {
              "outlinewidth": 0,
              "ticks": ""
             }
            },
            "marker": {
             "colorbar": {
              "outlinewidth": 0,
              "ticks": ""
             }
            },
            "type": "scatter3d"
           }
          ],
          "scattercarpet": [
           {
            "marker": {
             "colorbar": {
              "outlinewidth": 0,
              "ticks": ""
             }
            },
            "type": "scattercarpet"
           }
          ],
          "scattergeo": [
           {
            "marker": {
             "colorbar": {
              "outlinewidth": 0,
              "ticks": ""
             }
            },
            "type": "scattergeo"
           }
          ],
          "scattergl": [
           {
            "marker": {
             "colorbar": {
              "outlinewidth": 0,
              "ticks": ""
             }
            },
            "type": "scattergl"
           }
          ],
          "scattermapbox": [
           {
            "marker": {
             "colorbar": {
              "outlinewidth": 0,
              "ticks": ""
             }
            },
            "type": "scattermapbox"
           }
          ],
          "scatterpolar": [
           {
            "marker": {
             "colorbar": {
              "outlinewidth": 0,
              "ticks": ""
             }
            },
            "type": "scatterpolar"
           }
          ],
          "scatterpolargl": [
           {
            "marker": {
             "colorbar": {
              "outlinewidth": 0,
              "ticks": ""
             }
            },
            "type": "scatterpolargl"
           }
          ],
          "scatterternary": [
           {
            "marker": {
             "colorbar": {
              "outlinewidth": 0,
              "ticks": ""
             }
            },
            "type": "scatterternary"
           }
          ],
          "surface": [
           {
            "colorbar": {
             "outlinewidth": 0,
             "ticks": ""
            },
            "colorscale": [
             [
              0.0,
              "#0d0887"
             ],
             [
              0.1111111111111111,
              "#46039f"
             ],
             [
              0.2222222222222222,
              "#7201a8"
             ],
             [
              0.3333333333333333,
              "#9c179e"
             ],
             [
              0.4444444444444444,
              "#bd3786"
             ],
             [
              0.5555555555555556,
              "#d8576b"
             ],
             [
              0.6666666666666666,
              "#ed7953"
             ],
             [
              0.7777777777777778,
              "#fb9f3a"
             ],
             [
              0.8888888888888888,
              "#fdca26"
             ],
             [
              1.0,
              "#f0f921"
             ]
            ],
            "type": "surface"
           }
          ],
          "table": [
           {
            "cells": {
             "fill": {
              "color": "#EBF0F8"
             },
             "line": {
              "color": "white"
             }
            },
            "header": {
             "fill": {
              "color": "#C8D4E3"
             },
             "line": {
              "color": "white"
             }
            },
            "type": "table"
           }
          ]
         },
         "layout": {
          "annotationdefaults": {
           "arrowcolor": "#2a3f5f",
           "arrowhead": 0,
           "arrowwidth": 1
          },
          "autotypenumbers": "strict",
          "coloraxis": {
           "colorbar": {
            "outlinewidth": 0,
            "ticks": ""
           }
          },
          "colorscale": {
           "diverging": [
            [
             0,
             "#8e0152"
            ],
            [
             0.1,
             "#c51b7d"
            ],
            [
             0.2,
             "#de77ae"
            ],
            [
             0.3,
             "#f1b6da"
            ],
            [
             0.4,
             "#fde0ef"
            ],
            [
             0.5,
             "#f7f7f7"
            ],
            [
             0.6,
             "#e6f5d0"
            ],
            [
             0.7,
             "#b8e186"
            ],
            [
             0.8,
             "#7fbc41"
            ],
            [
             0.9,
             "#4d9221"
            ],
            [
             1,
             "#276419"
            ]
           ],
           "sequential": [
            [
             0.0,
             "#0d0887"
            ],
            [
             0.1111111111111111,
             "#46039f"
            ],
            [
             0.2222222222222222,
             "#7201a8"
            ],
            [
             0.3333333333333333,
             "#9c179e"
            ],
            [
             0.4444444444444444,
             "#bd3786"
            ],
            [
             0.5555555555555556,
             "#d8576b"
            ],
            [
             0.6666666666666666,
             "#ed7953"
            ],
            [
             0.7777777777777778,
             "#fb9f3a"
            ],
            [
             0.8888888888888888,
             "#fdca26"
            ],
            [
             1.0,
             "#f0f921"
            ]
           ],
           "sequentialminus": [
            [
             0.0,
             "#0d0887"
            ],
            [
             0.1111111111111111,
             "#46039f"
            ],
            [
             0.2222222222222222,
             "#7201a8"
            ],
            [
             0.3333333333333333,
             "#9c179e"
            ],
            [
             0.4444444444444444,
             "#bd3786"
            ],
            [
             0.5555555555555556,
             "#d8576b"
            ],
            [
             0.6666666666666666,
             "#ed7953"
            ],
            [
             0.7777777777777778,
             "#fb9f3a"
            ],
            [
             0.8888888888888888,
             "#fdca26"
            ],
            [
             1.0,
             "#f0f921"
            ]
           ]
          },
          "colorway": [
           "#636efa",
           "#EF553B",
           "#00cc96",
           "#ab63fa",
           "#FFA15A",
           "#19d3f3",
           "#FF6692",
           "#B6E880",
           "#FF97FF",
           "#FECB52"
          ],
          "font": {
           "color": "#2a3f5f"
          },
          "geo": {
           "bgcolor": "white",
           "lakecolor": "white",
           "landcolor": "#E5ECF6",
           "showlakes": true,
           "showland": true,
           "subunitcolor": "white"
          },
          "hoverlabel": {
           "align": "left"
          },
          "hovermode": "closest",
          "mapbox": {
           "style": "light"
          },
          "paper_bgcolor": "white",
          "plot_bgcolor": "#E5ECF6",
          "polar": {
           "angularaxis": {
            "gridcolor": "white",
            "linecolor": "white",
            "ticks": ""
           },
           "bgcolor": "#E5ECF6",
           "radialaxis": {
            "gridcolor": "white",
            "linecolor": "white",
            "ticks": ""
           }
          },
          "scene": {
           "xaxis": {
            "backgroundcolor": "#E5ECF6",
            "gridcolor": "white",
            "gridwidth": 2,
            "linecolor": "white",
            "showbackground": true,
            "ticks": "",
            "zerolinecolor": "white"
           },
           "yaxis": {
            "backgroundcolor": "#E5ECF6",
            "gridcolor": "white",
            "gridwidth": 2,
            "linecolor": "white",
            "showbackground": true,
            "ticks": "",
            "zerolinecolor": "white"
           },
           "zaxis": {
            "backgroundcolor": "#E5ECF6",
            "gridcolor": "white",
            "gridwidth": 2,
            "linecolor": "white",
            "showbackground": true,
            "ticks": "",
            "zerolinecolor": "white"
           }
          },
          "shapedefaults": {
           "line": {
            "color": "#2a3f5f"
           }
          },
          "ternary": {
           "aaxis": {
            "gridcolor": "white",
            "linecolor": "white",
            "ticks": ""
           },
           "baxis": {
            "gridcolor": "white",
            "linecolor": "white",
            "ticks": ""
           },
           "bgcolor": "#E5ECF6",
           "caxis": {
            "gridcolor": "white",
            "linecolor": "white",
            "ticks": ""
           }
          },
          "title": {
           "x": 0.05
          },
          "xaxis": {
           "automargin": true,
           "gridcolor": "white",
           "linecolor": "white",
           "ticks": "",
           "title": {
            "standoff": 15
           },
           "zerolinecolor": "white",
           "zerolinewidth": 2
          },
          "yaxis": {
           "automargin": true,
           "gridcolor": "white",
           "linecolor": "white",
           "ticks": "",
           "title": {
            "standoff": 15
           },
           "zerolinecolor": "white",
           "zerolinewidth": 2
          }
         }
        },
        "title": {
         "text": "Map of Corvallis with Sample Points"
        }
       }
      },
      "text/html": [
       "<div>                            <div id=\"5906de3a-4b90-4b9a-b545-2e5609ab2f4d\" class=\"plotly-graph-div\" style=\"height:525px; width:100%;\"></div>            <script type=\"text/javascript\">                require([\"plotly\"], function(Plotly) {                    window.PLOTLYENV=window.PLOTLYENV || {};                                    if (document.getElementById(\"5906de3a-4b90-4b9a-b545-2e5609ab2f4d\")) {                    Plotly.newPlot(                        \"5906de3a-4b90-4b9a-b545-2e5609ab2f4d\",                        [{\"hovertemplate\":\"<b>%{hovertext}</b><br><br>lat=%{lat}<br>lon=%{lon}<extra></extra>\",\"hovertext\":[\"Point 1\",\"Point 2\",\"Point 3\",\"Point 4\",\"Point 5\",\"Point 6\",\"Point 7\",\"Point 8\",\"Point 9\",\"Point 10\",\"Point 11\",\"Point 12\",\"Point 13\",\"Point 14\",\"Point 15\",\"Point 16\",\"Point 17\",\"Point 18\",\"Point 19\",\"Point 20\",\"Point 21\",\"Point 22\",\"Point 23\",\"Point 24\",\"Point 25\",\"Point 26\",\"Point 27\",\"Point 28\",\"Point 29\",\"Point 30\",\"Point 31\",\"Point 32\",\"Point 33\",\"Point 34\",\"Point 35\",\"Point 36\",\"Point 37\",\"Point 38\",\"Point 39\",\"Point 40\",\"Point 41\",\"Point 42\",\"Point 43\",\"Point 44\",\"Point 45\",\"Point 46\",\"Point 47\",\"Point 48\",\"Point 49\",\"Point 50\",\"Point 51\",\"Point 52\",\"Point 53\",\"Point 54\",\"Point 55\",\"Point 56\",\"Point 57\",\"Point 58\",\"Point 59\",\"Point 60\",\"Point 61\",\"Point 62\",\"Point 63\",\"Point 64\",\"Point 65\",\"Point 66\",\"Point 67\",\"Point 68\",\"Point 69\",\"Point 70\",\"Point 71\",\"Point 72\",\"Point 73\",\"Point 74\",\"Point 75\",\"Point 76\",\"Point 77\",\"Point 78\",\"Point 79\",\"Point 80\",\"Point 81\",\"Point 82\",\"Point 83\",\"Point 84\",\"Point 85\",\"Point 86\",\"Point 87\",\"Point 88\",\"Point 89\",\"Point 90\",\"Point 91\",\"Point 92\",\"Point 93\",\"Point 94\",\"Point 95\",\"Point 96\",\"Point 97\",\"Point 98\",\"Point 99\",\"Point 100\",\"Point 101\",\"Point 102\",\"Point 103\",\"Point 104\",\"Point 105\",\"Point 106\",\"Point 107\",\"Point 108\",\"Point 109\",\"Point 110\",\"Point 111\",\"Point 112\",\"Point 113\",\"Point 114\",\"Point 115\",\"Point 116\",\"Point 117\",\"Point 118\",\"Point 119\",\"Point 120\",\"Point 121\",\"Point 122\",\"Point 123\",\"Point 124\",\"Point 125\",\"Point 126\",\"Point 127\",\"Point 128\",\"Point 129\",\"Point 130\",\"Point 131\",\"Point 132\",\"Point 133\",\"Point 134\",\"Point 135\",\"Point 136\",\"Point 137\",\"Point 138\",\"Point 139\",\"Point 140\",\"Point 141\",\"Point 142\",\"Point 143\",\"Point 144\",\"Point 145\",\"Point 146\",\"Point 147\",\"Point 148\",\"Point 149\",\"Point 150\",\"Point 151\",\"Point 152\",\"Point 153\",\"Point 154\",\"Point 155\",\"Point 156\",\"Point 157\",\"Point 158\",\"Point 159\",\"Point 160\",\"Point 161\",\"Point 162\",\"Point 163\",\"Point 164\",\"Point 165\",\"Point 166\",\"Point 167\",\"Point 168\",\"Point 169\",\"Point 170\",\"Point 171\",\"Point 172\",\"Point 173\",\"Point 174\",\"Point 175\",\"Point 176\",\"Point 177\",\"Point 178\",\"Point 179\",\"Point 180\",\"Point 181\",\"Point 182\",\"Point 183\",\"Point 184\",\"Point 185\",\"Point 186\",\"Point 187\",\"Point 188\",\"Point 189\",\"Point 190\",\"Point 191\",\"Point 192\",\"Point 193\",\"Point 194\",\"Point 195\",\"Point 196\",\"Point 197\",\"Point 198\",\"Point 199\",\"Point 200\",\"Point 201\",\"Point 202\",\"Point 203\",\"Point 204\",\"Point 205\",\"Point 206\",\"Point 207\",\"Point 208\",\"Point 209\",\"Point 210\",\"Point 211\",\"Point 212\",\"Point 213\",\"Point 214\",\"Point 215\",\"Point 216\",\"Point 217\",\"Point 218\",\"Point 219\",\"Point 220\",\"Point 221\",\"Point 222\",\"Point 223\",\"Point 224\",\"Point 225\",\"Point 226\",\"Point 227\",\"Point 228\",\"Point 229\",\"Point 230\",\"Point 231\",\"Point 232\",\"Point 233\",\"Point 234\",\"Point 235\",\"Point 236\",\"Point 237\",\"Point 238\",\"Point 239\",\"Point 240\",\"Point 241\",\"Point 242\",\"Point 243\",\"Point 244\",\"Point 245\",\"Point 246\",\"Point 247\",\"Point 248\",\"Point 249\",\"Point 250\",\"Point 251\",\"Point 252\",\"Point 253\",\"Point 254\",\"Point 255\",\"Point 256\",\"Point 257\",\"Point 258\",\"Point 259\",\"Point 260\",\"Point 261\",\"Point 262\",\"Point 263\",\"Point 264\",\"Point 265\",\"Point 266\",\"Point 267\",\"Point 268\",\"Point 269\",\"Point 270\",\"Point 271\",\"Point 272\",\"Point 273\",\"Point 274\",\"Point 275\",\"Point 276\",\"Point 277\",\"Point 278\",\"Point 279\",\"Point 280\",\"Point 281\",\"Point 282\",\"Point 283\",\"Point 284\",\"Point 285\",\"Point 286\",\"Point 287\",\"Point 288\",\"Point 289\",\"Point 290\",\"Point 291\",\"Point 292\",\"Point 293\",\"Point 294\",\"Point 295\",\"Point 296\",\"Point 297\",\"Point 298\",\"Point 299\",\"Point 300\",\"Point 301\",\"Point 302\",\"Point 303\",\"Point 304\",\"Point 305\",\"Point 306\",\"Point 307\",\"Point 308\",\"Point 309\",\"Point 310\",\"Point 311\",\"Point 312\",\"Point 313\",\"Point 314\",\"Point 315\",\"Point 316\",\"Point 317\",\"Point 318\",\"Point 319\",\"Point 320\",\"Point 321\",\"Point 322\",\"Point 323\",\"Point 324\",\"Point 325\",\"Point 326\",\"Point 327\",\"Point 328\",\"Point 329\",\"Point 330\",\"Point 331\",\"Point 332\",\"Point 333\",\"Point 334\",\"Point 335\",\"Point 336\",\"Point 337\",\"Point 338\",\"Point 339\",\"Point 340\",\"Point 341\",\"Point 342\",\"Point 343\",\"Point 344\",\"Point 345\",\"Point 346\",\"Point 347\",\"Point 348\",\"Point 349\",\"Point 350\",\"Point 351\",\"Point 352\",\"Point 353\",\"Point 354\",\"Point 355\",\"Point 356\",\"Point 357\",\"Point 358\",\"Point 359\",\"Point 360\",\"Point 361\",\"Point 362\",\"Point 363\",\"Point 364\",\"Point 365\",\"Point 366\",\"Point 367\",\"Point 368\",\"Point 369\",\"Point 370\",\"Point 371\",\"Point 372\",\"Point 373\",\"Point 374\",\"Point 375\",\"Point 376\",\"Point 377\",\"Point 378\",\"Point 379\",\"Point 380\",\"Point 381\",\"Point 382\",\"Point 383\",\"Point 384\",\"Point 385\",\"Point 386\",\"Point 387\",\"Point 388\",\"Point 389\",\"Point 390\",\"Point 391\",\"Point 392\",\"Point 393\",\"Point 394\",\"Point 395\",\"Point 396\",\"Point 397\",\"Point 398\",\"Point 399\",\"Point 400\",\"Point 401\",\"Point 402\",\"Point 403\",\"Point 404\",\"Point 405\",\"Point 406\",\"Point 407\",\"Point 408\",\"Point 409\",\"Point 410\",\"Point 411\",\"Point 412\",\"Point 413\",\"Point 414\",\"Point 415\",\"Point 416\",\"Point 417\",\"Point 418\",\"Point 419\",\"Point 420\",\"Point 421\",\"Point 422\",\"Point 423\",\"Point 424\",\"Point 425\",\"Point 426\",\"Point 427\",\"Point 428\",\"Point 429\",\"Point 430\",\"Point 431\",\"Point 432\",\"Point 433\",\"Point 434\",\"Point 435\",\"Point 436\",\"Point 437\",\"Point 438\",\"Point 439\",\"Point 440\",\"Point 441\",\"Point 442\",\"Point 443\",\"Point 444\",\"Point 445\",\"Point 446\",\"Point 447\",\"Point 448\",\"Point 449\",\"Point 450\",\"Point 451\",\"Point 452\",\"Point 453\",\"Point 454\",\"Point 455\",\"Point 456\",\"Point 457\",\"Point 458\",\"Point 459\",\"Point 460\",\"Point 461\",\"Point 462\",\"Point 463\",\"Point 464\",\"Point 465\",\"Point 466\",\"Point 467\",\"Point 468\",\"Point 469\",\"Point 470\",\"Point 471\",\"Point 472\",\"Point 473\",\"Point 474\",\"Point 475\",\"Point 476\",\"Point 477\",\"Point 478\",\"Point 479\",\"Point 480\",\"Point 481\",\"Point 482\",\"Point 483\",\"Point 484\",\"Point 485\",\"Point 486\",\"Point 487\",\"Point 488\",\"Point 489\",\"Point 490\",\"Point 491\",\"Point 492\",\"Point 493\",\"Point 494\",\"Point 495\",\"Point 496\",\"Point 497\",\"Point 498\",\"Point 499\",\"Point 500\"],\"lat\":[44.56956714153011,44.56321735698829,44.571076885381004,44.579830298564076,44.562258466252764,44.562258630430506,44.580392128155076,44.572274347291525,44.55990525614065,44.570025600435855,44.55996582307188,44.5599427024643,44.56701962271566,44.54546719755342,44.54735082167487,44.55897712470759,44.55447168879665,44.56774247332595,44.55551975924479,44.55047696298664,44.579256487689214,44.562342236995136,44.565275282046876,44.55035251813786,44.55915617275475,44.565709225897095,44.55309006422578,44.56835698018345,44.55859361310081,44.56168306250206,44.5585829338777,44.58312278184509,44.56446502775262,44.55402289071044,44.572825449121034,44.55239156350029,44.566688635950044,44.5450032987612,44.55131813951101,44.56656861235869,44.57198466579995,44.566313682811895,44.56344351717612,44.56158896304411,44.54981478009633,44.55740155791605,44.5599936122904,44.575171222262185,44.56803618289568,44.546969598446374,44.56784083969394,44.56074917719584,44.55783077999694,44.57071676288841,44.57490999522496,44.57391280119116,44.556207824767775,44.561507876241485,44.567912634314034,44.574355451271224,44.55980825762155,44.56274341023336,44.553536650259936,44.55263793375919,44.57272525822394,44.578162400285706,44.563879898784194,44.57463532897892,44.568216360250474,44.55814880245395,44.56821395605508,44.57998036566466,44.564241739608896,44.58024643655814,44.5384025489591,44.57281902504375,44.56547047068238,44.56160992649534,44.56551760776535,44.54472431085399,44.562403281121625,44.56817112571512,44.57937894044741,44.55941729781726,44.55651506397107,44.55958242956415,44.57375402117702,44.56788751109659,44.55930239796233,44.569732674331135,44.56557077549348,44.57428644990533,44.557579469061224,44.56132337853402,44.560678918468675,44.54996485051868,44.56756120277065,44.5672105527218,44.564651134566425,44.56225412866625,44.550446292579494,44.560393546772346,44.56117285483473,44.556577227307784,44.56298714288334,44.568640508568144,44.583461859012104,44.566345778128316,44.56717550390723,44.56385554084234,44.54541228784701,44.564334861245506,44.56520230209941,44.589232421124855,44.56267639035219,44.56761547342334,44.564252882302945,44.552913219623804,44.57602822814515,44.57211933032686,44.57251031947043,44.55550612545205,44.57862794310936,44.55058148937208,44.570468570938004,44.5865045562581,44.55469463674869,44.55893702270397,44.565596513650874,44.559565243458835,44.54909336568934,44.56528562974806,44.55397696286274,44.56933592430635,44.55540575765766,44.580099344050176,44.55676746707664,44.56137938483794,44.572735172173694,44.55229135683566,44.56687459934604,44.577671427542825,44.54852516765439,44.56644633858532,44.567198827942484,44.57241822871777,44.55223049289122,44.55139543386915,44.56981941565617,44.56756984673233,44.567104928503454,44.56806448209497,44.55779975278421,44.56692253697161,44.56753072473298,44.557456485819735,44.583257745111446,44.56933832920912,44.55268696502797,44.57116553608634,44.55485318329772,44.572470846037426,44.57618595579007,44.556393176816485,44.57423376129244,44.56872780926936,44.57282060159994,44.583567929826536,44.56214611883997,44.55706263835642,44.555704855703745,44.55644189715034,44.56382898290586,44.56801151974817,44.567366907993296,44.57287183249036,44.56473001891878,44.57913534077157,44.56195343166762,44.59180169166589,44.57085667347765,44.55602842443584,44.553891075019386,44.569424724152434,44.56236537214674,44.57174000494092,44.56933237624573,44.56387171087343,44.556132062819316,44.54945152775314,44.56013485047933,44.57316398794323,44.5667409374413,44.552142612212876,44.56633180925851,44.56845317379729,44.55576142563799,44.56613725105945,44.56518208718446,44.553170297021694,44.56817787360348,44.57020784526368,44.57543051243175,44.57513802052035,44.550823306320424,44.55522174960085,44.56975035267209,44.56973785950912,44.56975047686306,44.603127314906544,44.57030890510693,44.5759556564018,44.57414001763493,44.571113912513056,44.56144730755359,44.57218969220493,44.55687174785462,44.5622318139326,44.55974636452171,44.56541874139386,44.587746585666736,44.54592734807408,44.57146260190375,44.5484728412881,44.55988068134211,44.57548950596967,44.56524280019095,44.55382255222071,44.5574469629074,44.571395977489345,44.55729633368283,44.56676458589582,44.56505571839904,44.55808399652394,44.58603944089325,44.57093919022318,44.54434857413342,44.566464543147696,44.55798213535231,44.57312433334796,44.556674792615674,44.56345263558533,44.5696498727898,44.5732575519417,44.55259703592944,44.56125498764159,44.55985054688839,44.558066707674264,44.58225454240281,44.56864981710961,44.55199116045665,44.573778619470545,44.58582156197013,44.57492465260551,44.54940630034046,44.559757659271334,44.577269111491866,44.557523305343814,44.56903819428146,44.572346340534295,44.55533069528422,44.56400474643938,44.532187326599306,44.55435612358666,44.56207431848607,44.55212216818035,44.580924113039316,44.55029858622039,44.56019955513303,44.56590740577286,44.57901273289066,44.5502413784882,44.576231637521545,44.564702330610196,44.55478491348952,44.56922103474263,44.566590596955734,44.55859783122841,44.5652980208499,44.56074686403138,44.56573517345251,44.57122130674521,44.58046016816145,44.55222184501173,44.58593033374656,44.54507912200477,44.56308214904964,44.57048317206485,44.56740991867735,44.558373004801794,44.56251877749643,44.55966999065341,44.558706352430555,44.57309602097021,44.56817015485965,44.55767090404739,44.57359599875433,44.56767299520877,44.57272862118839,44.570896288419235,44.556310049890776,44.55899818959803,44.57207293605123,44.570703702654335,44.56439098406036,44.56577327383309,44.57737664895788,44.55868428611164,44.570070973811696,44.56257807347566,44.562423187967724,44.575587768519874,44.57285416348988,44.572735096360006,44.57765478807154,44.564810038416326,44.57141952971295,44.561497332434065,44.56784166352488,44.56329856945632,44.56556995964993,44.570551570254366,44.55641779316766,44.58552387275685,44.554539826185,44.55245811387212,44.576181108735,44.57251662693963,44.57084119817052,44.57088345509264,44.56447753227153,44.55562745628514,44.56535804558194,44.55782838288488,44.574351197334174,44.56312942618498,44.55634502803208,44.56138614158347,44.56872931454276,44.558962754471956,44.55637779604434,44.56703687211492,44.56704966571109,44.55953056824629,44.55988961694381,44.56692049937357,44.550119156585026,44.55052536225623,44.55741555778747,44.56246552848288,44.567709075655976,44.579353562169494,44.57317659623202,44.563000614700364,44.56440983792097,44.55457470635362,44.56441486864008,44.561713413610796,44.56782718560338,44.55632769056447,44.56979346514241,44.57992738913003,44.56351239851543,44.56861711722099,44.57150143991711,44.56058779528114,44.5668409248181,44.56472592400782,44.565576760985486,44.556869902161445,44.56484510174259,44.56957998291245,44.57911143607795,44.57419270826085,44.58613182457511,44.55692652437112,44.573323206367206,44.56643342005738,44.586498029332176,44.55651701714645,44.55620278157819,44.55860607354556,44.5433610427569,44.55934244978319,44.55700867338446,44.56610393786476,44.56801755975777,44.58336170839216,44.57410423838186,44.55883096344338,44.55561585328652,44.56951919171507,44.55139766792979,44.58291458765854,44.57639440120721,44.55990824347895,44.54746865470909,44.57813872374165,44.56345460154747,44.57697816311973,44.548655723412054,44.55860624977046,44.56465243699718,44.56506980593765,44.56009934528521,44.570828499323476,44.553923795706176,44.56317620514979,44.56580295631712,44.56974438834059,44.57171614878089,44.55335357908162,44.549258858292646,44.57737676821898,44.567923140119795,44.55711513463444,44.58011151975522,44.56575674634293,44.57639297184064,44.5652751848141,44.585207479248815,44.58215340842443,44.562110358515206,44.57431570950954,44.57105375949585,44.57828631557532,44.554950765394196,44.571460514599984,44.575184244868495,44.54701260513577,44.552767414873344,44.5442076782224,44.56190593165555,44.571775422557955,44.57962357052096,44.565340947804195,44.58088615545571,44.55079898541785,44.54756617560645,44.564044523011034,44.56844065448939,44.564273052519056,44.5439255789996,44.56370879960487,44.55155530499495,44.5712967254883,44.568265982460964,44.55520120213672,44.55946133082663,44.554007864781106,44.56397320902727,44.57415142320501,44.55474273953664,44.569640465155175,44.559297423816275,44.556671271677374,44.56352969640045,44.55424757677581,44.55906350694653,44.55262122107411,44.58424725132916,44.56495263551972,44.557602744920075,44.56673979910734,44.56347671950309,44.562390304004666,44.57074166700043,44.572175077100475,44.559294988523895,44.55884181759355,44.56184948302848,44.54158078835264,44.54944808937801,44.578268742674446,44.58104967713501,44.56210963960444,44.57036556963055,44.56771250154544,44.59538880808455,44.57579574911434,44.56332082408519,44.555044595594,44.548535536797424,44.56663463635867,44.557036492547155,44.550377462904024,44.55813427115757,44.553784519963855,44.58147141635072,44.573416397569495,44.56452027358683,44.5793994413889,44.56537368307647,44.55598715798671,44.5798312407727,44.56998910043684,44.554227538456736,44.56269661321916,44.555843817466155,44.55077200269036],\"legendgroup\":\"\",\"lon\":[-123.25273822452468,-123.2429058335953,-123.2759856757382,-123.25637030763309,-123.26850642569121,-123.26687125383765,-123.2679239392424,-123.2706399076968,-123.26151478372056,-123.2703095011641,-123.2592954317422,-123.26250238109449,-123.26438948046867,-123.27107563662041,-123.26776771330569,-123.25444608774174,-123.25699082812376,-123.27177555244799,-123.26100667694571,-123.25448612876629,-123.27869405281122,-123.2565663980762,-123.26862623758946,-123.25629401331408,-123.26963259156543,-123.28004882100664,-123.27827542437883,-123.26151915053339,-123.25940277498279,-123.27104316625105,-123.25561407541223,-123.2786152006227,-123.26266079798647,-123.27411016199763,-123.26851836107802,-123.26152601328684,-123.27060413365284,-123.2658455554423,-123.25193707190786,-123.26776891869523,-123.25364307887935,-123.27329706854658,-123.25670195822084,-123.24758431379342,-123.28671644500128,-123.2699689525547,-123.2562292787282,-123.26403045386043,-123.25828854126628,-123.26803985186716,-123.26113410212527,-123.26355677235392,-123.2503221793834,-123.25945579156699,-123.25862397337924,-123.26611876966122,-123.26687606224073,-123.26632558187819,-123.25805547857622,-123.2662098448082,-123.25910225143103,-123.24124599201355,-123.25328875296569,-123.26526023532168,-123.24998786077836,-123.26608075373022,-123.28238124535179,-123.27208086310918,-123.28070791921026,-123.26551513484041,-123.2618158162081,-123.24523562687725,-123.25873072626236,-123.26419100528808,-123.25370594418817,-123.28411135309008,-123.25964385441891,-123.25429134806113,-123.2767858624578,-123.25056245956793,-123.25861503592506,-123.26615287913901,-123.25567218133894,-123.23929307142195,-123.26018133744941,-123.259517794137,-123.26659360899541,-123.27049844369465,-123.25369664183455,-123.27056083825909,-123.26128433762781,-123.26677657446766,-123.25721020174254,-123.25866337894713,-123.25162460055742,-123.26710016398854,-123.26469874935293,-123.27178763715783,-123.26644293260077,-123.25822699506955,-123.25443011383355,-123.27122165324178,-123.25330394079894,-123.24844362141195,-123.25786565096776,-123.24323204187442,-123.26973789199104,-123.27444654703311,-123.27978720248905,-123.24703955688511,-123.25545634343646,-123.2625558467091,-123.2592003137368,-123.27325489047298,-123.23754248020383,-123.26070778818024,-123.26090605205395,-123.25474233376102,-123.25718990768263,-123.2597611597572,-123.26990474455445,-123.25728531642864,-123.24317975503526,-123.24854579953845,-123.2460681337336,-123.26711215676431,-123.27189604820259,-123.263257869201,-123.26144275087711,-123.25105808481528,-123.27892464629714,-123.24670449680539,-123.2635800789858,-123.26626881069947,-123.2721210437526,-123.27854856671865,-123.25376829416038,-123.26126682032812,-123.27489960899742,-123.27495078772064,-123.2653578469929,-123.2453097847471,-123.26459591351363,-123.27703142953118,-123.26445743064086,-123.26472723569748,-123.28896886642941,-123.26254294866519,-123.26430934530208,-123.25503793635187,-123.24351043905055,-123.25073434970453,-123.26468888690555,-123.27306525908742,-123.2362664019675,-123.26140781565985,-123.26186070708087,-123.2622412508711,-123.26001915239232,-123.26344360411925,-123.2677366200688,-123.2674685894124,-123.26232753270216,-123.26743424771134,-123.26912845782677,-123.26093569772308,-123.2645497721742,-123.24696007011417,-123.28850969808393,-123.25108493148078,-123.24953914807503,-123.28273390232408,-123.2654268759408,-123.26571440865996,-123.27607511694718,-123.26977816687591,-123.27310575845466,-123.24447729556576,-123.25264321606852,-123.24928444905007,-123.25478327935957,-123.27329051771217,-123.26724520266279,-123.25710625438772,-123.27422127808892,-123.25487001569827,-123.26440325398158,-123.2657482080755,-123.25489040031796,-123.25755736688514,-123.26560966165819,-123.25040670196636,-123.272810633276,-123.25584064393055,-123.25606898742032,-123.26509546439314,-123.25873866977759,-123.27451113576386,-123.25275972980793,-123.26384902136444,-123.2672272302052,-123.25150990774164,-123.26904343690543,-123.27608461296363,-123.27756629173524,-123.25593990048654,-123.27480429352497,-123.24445205818016,-123.28281929407883,-123.2450354363171,-123.25988982532797,-123.2629671311187,-123.26744919086809,-123.25800863885648,-123.26237634702424,-123.25096698117983,-123.26085772351338,-123.26049698238538,-123.26563612212215,-123.26256945623722,-123.25892198231108,-123.27910168392657,-123.27548185422106,-123.25456735905978,-123.26029134561873,-123.26383983336353,-123.26181566066934,-123.25852418294639,-123.2673975968031,-123.26978304725402,-123.26004154744902,-123.27178372777615,-123.25791747244286,-123.27902583604238,-123.25170844362674,-123.25727402517587,-123.25943970265686,-123.25217309016054,-123.24534525555538,-123.25185629934983,-123.28040874231331,-123.27479576966736,-123.26824818577695,-123.2617390894979,-123.2568234097953,-123.26925743813153,-123.26013233235523,-123.26955382932353,-123.26811517802992,-123.27606661096848,-123.27123233246111,-123.27551684605616,-123.27175873252978,-123.25146358203392,-123.27149398888832,-123.23567617935163,-123.2570668209912,-123.26015163876305,-123.27058357780182,-123.25499690120591,-123.26775637826238,-123.26077990185355,-123.23639915461732,-123.26296059899725,-123.25050726673715,-123.26903176425125,-123.26234988490496,-123.24429199364364,-123.26826967057788,-123.24387551442003,-123.25492248064545,-123.26762466775894,-123.25567592260944,-123.25227445550374,-123.25578190037783,-123.2777022471989,-123.26927137175825,-123.26447518635551,-123.262744334291,-123.25579327902449,-123.26022298999067,-123.27535344358711,-123.25819802148995,-123.25589414254716,-123.25640209552068,-123.25119219274445,-123.25366077845452,-123.25740819920772,-123.26270165711459,-123.27860960933516,-123.25770381780868,-123.25992312312837,-123.25928421162804,-123.2747674857582,-123.27281056540409,-123.25146847146667,-123.26239555153856,-123.25518499302628,-123.26171681623869,-123.26170243860504,-123.25261716194024,-123.26716044728218,-123.2610387922306,-123.26662275288705,-123.26634496227432,-123.26509172123468,-123.25977866228367,-123.26678748621663,-123.24944243874427,-123.2709460730222,-123.26386871644162,-123.26639731058275,-123.24753022115647,-123.26003445223489,-123.25168155460531,-123.27685560373037,-123.25932949734131,-123.25310369204377,-123.26117716010725,-123.25134519624935,-123.26717288450101,-123.24790652559814,-123.2390110187638,-123.2656283856044,-123.26645502521401,-123.24746615522882,-123.24620427854269,-123.26722860027154,-123.26620186817095,-123.2648178460886,-123.27544450511034,-123.27118651946485,-123.27204140766752,-123.26967797565104,-123.26234684887388,-123.25965785267464,-123.24649499507186,-123.27198354040739,-123.25215677601524,-123.26413988844226,-123.26249463709652,-123.25525180507833,-123.27322722021562,-123.25817590253816,-123.26033547791786,-123.25707548735991,-123.25910831356092,-123.23744699860089,-123.2683773998425,-123.26730996955001,-123.26823140526425,-123.2675547711916,-123.26837387127307,-123.25010983468893,-123.2477949575201,-123.2677074629375,-123.27032355573104,-123.25728584443614,-123.26752223044281,-123.25567068182245,-123.2599707697915,-123.27715744114997,-123.2465249479867,-123.24404122326905,-123.26812788690485,-123.26587701559936,-123.25914134609275,-123.25865543210013,-123.25541455727327,-123.24189795461234,-123.26376947227494,-123.26998297244539,-123.27579319228015,-123.26930930039941,-123.26233126972873,-123.24405442136482,-123.26717611299036,-123.25976212048361,-123.26216422896073,-123.25011606726552,-123.23673067574127,-123.2673086877292,-123.26689439442518,-123.25155839122931,-123.25518108510374,-123.24353292674265,-123.25616071814675,-123.26559292090788,-123.25609345169308,-123.25091296419417,-123.25379517818803,-123.25692725968892,-123.25133325310411,-123.25030704409555,-123.24817841008962,-123.2555129011241,-123.26367118080317,-123.26053286313567,-123.24993491033491,-123.27016935670987,-123.25831326691127,-123.26593338812327,-123.26171255177066,-123.24921548137392,-123.2600890093198,-123.26153563451844,-123.2755985614098,-123.25453746433973,-123.2555451581886,-123.24036745276695,-123.26507778234954,-123.25980849672337,-123.2595061631629,-123.24622546720236,-123.26295295532387,-123.2592097847423,-123.25592103490284,-123.26013390876844,-123.2664643361455,-123.26005910007102,-123.2512636825014,-123.27226515299411,-123.26067030325854,-123.26900120814939,-123.25004953371075,-123.27723186904784,-123.26758921847272,-123.25822788124935,-123.24634475970765,-123.26265750261074,-123.26755199526693,-123.24318842930559,-123.27648013900416,-123.2839880595662,-123.25759985549946,-123.26702054224353,-123.2722123281713,-123.25491643552701,-123.25956199286229,-123.26764078630737,-123.27480304398671,-123.2532754267172,-123.25549798822041,-123.2629917586378,-123.24353363003952,-123.27270084766326,-123.27725525170925,-123.26891908069881,-123.26245586016356,-123.25956660550678,-123.26441236057856,-123.25847944603485,-123.2745153942419,-123.24756235395927,-123.26282151178393,-123.25082704168412,-123.25857274653622,-123.25743246780846,-123.25630232719767,-123.25752291439983,-123.25557277240132,-123.24870847469867,-123.26003478830299,-123.25490996242412,-123.26289735694287,-123.24759882784551,-123.26876392302059,-123.2439905956709,-123.26240157950645,-123.27630775102118,-123.26071895585089,-123.26881051657475,-123.25359356451011,-123.26852623979302,-123.26646183433215,-123.28089540730946,-123.2665230631925,-123.28623879326629,-123.27783902823485,-123.25439585343855,-123.25414199841349,-123.25774542438215,-123.2716697614313,-123.26247711356142,-123.26203602539091,-123.27358364689192,-123.24696601698233,-123.25322637709425,-123.26420964173829,-123.26173114161006,-123.25991617192052,-123.28241734868425,-123.2644717738252,-123.26881984247999,-123.27201620009895,-123.26481100292887,-123.2440231347315,-123.25559157138733,-123.26771178989783,-123.25627417218644],\"marker\":{\"color\":\"#636efa\"},\"mode\":\"markers\",\"name\":\"\",\"showlegend\":false,\"subplot\":\"mapbox\",\"type\":\"scattermapbox\"}],                        {\"template\":{\"data\":{\"histogram2dcontour\":[{\"type\":\"histogram2dcontour\",\"colorbar\":{\"outlinewidth\":0,\"ticks\":\"\"},\"colorscale\":[[0.0,\"#0d0887\"],[0.1111111111111111,\"#46039f\"],[0.2222222222222222,\"#7201a8\"],[0.3333333333333333,\"#9c179e\"],[0.4444444444444444,\"#bd3786\"],[0.5555555555555556,\"#d8576b\"],[0.6666666666666666,\"#ed7953\"],[0.7777777777777778,\"#fb9f3a\"],[0.8888888888888888,\"#fdca26\"],[1.0,\"#f0f921\"]]}],\"choropleth\":[{\"type\":\"choropleth\",\"colorbar\":{\"outlinewidth\":0,\"ticks\":\"\"}}],\"histogram2d\":[{\"type\":\"histogram2d\",\"colorbar\":{\"outlinewidth\":0,\"ticks\":\"\"},\"colorscale\":[[0.0,\"#0d0887\"],[0.1111111111111111,\"#46039f\"],[0.2222222222222222,\"#7201a8\"],[0.3333333333333333,\"#9c179e\"],[0.4444444444444444,\"#bd3786\"],[0.5555555555555556,\"#d8576b\"],[0.6666666666666666,\"#ed7953\"],[0.7777777777777778,\"#fb9f3a\"],[0.8888888888888888,\"#fdca26\"],[1.0,\"#f0f921\"]]}],\"heatmap\":[{\"type\":\"heatmap\",\"colorbar\":{\"outlinewidth\":0,\"ticks\":\"\"},\"colorscale\":[[0.0,\"#0d0887\"],[0.1111111111111111,\"#46039f\"],[0.2222222222222222,\"#7201a8\"],[0.3333333333333333,\"#9c179e\"],[0.4444444444444444,\"#bd3786\"],[0.5555555555555556,\"#d8576b\"],[0.6666666666666666,\"#ed7953\"],[0.7777777777777778,\"#fb9f3a\"],[0.8888888888888888,\"#fdca26\"],[1.0,\"#f0f921\"]]}],\"heatmapgl\":[{\"type\":\"heatmapgl\",\"colorbar\":{\"outlinewidth\":0,\"ticks\":\"\"},\"colorscale\":[[0.0,\"#0d0887\"],[0.1111111111111111,\"#46039f\"],[0.2222222222222222,\"#7201a8\"],[0.3333333333333333,\"#9c179e\"],[0.4444444444444444,\"#bd3786\"],[0.5555555555555556,\"#d8576b\"],[0.6666666666666666,\"#ed7953\"],[0.7777777777777778,\"#fb9f3a\"],[0.8888888888888888,\"#fdca26\"],[1.0,\"#f0f921\"]]}],\"contourcarpet\":[{\"type\":\"contourcarpet\",\"colorbar\":{\"outlinewidth\":0,\"ticks\":\"\"}}],\"contour\":[{\"type\":\"contour\",\"colorbar\":{\"outlinewidth\":0,\"ticks\":\"\"},\"colorscale\":[[0.0,\"#0d0887\"],[0.1111111111111111,\"#46039f\"],[0.2222222222222222,\"#7201a8\"],[0.3333333333333333,\"#9c179e\"],[0.4444444444444444,\"#bd3786\"],[0.5555555555555556,\"#d8576b\"],[0.6666666666666666,\"#ed7953\"],[0.7777777777777778,\"#fb9f3a\"],[0.8888888888888888,\"#fdca26\"],[1.0,\"#f0f921\"]]}],\"surface\":[{\"type\":\"surface\",\"colorbar\":{\"outlinewidth\":0,\"ticks\":\"\"},\"colorscale\":[[0.0,\"#0d0887\"],[0.1111111111111111,\"#46039f\"],[0.2222222222222222,\"#7201a8\"],[0.3333333333333333,\"#9c179e\"],[0.4444444444444444,\"#bd3786\"],[0.5555555555555556,\"#d8576b\"],[0.6666666666666666,\"#ed7953\"],[0.7777777777777778,\"#fb9f3a\"],[0.8888888888888888,\"#fdca26\"],[1.0,\"#f0f921\"]]}],\"mesh3d\":[{\"type\":\"mesh3d\",\"colorbar\":{\"outlinewidth\":0,\"ticks\":\"\"}}],\"scatter\":[{\"fillpattern\":{\"fillmode\":\"overlay\",\"size\":10,\"solidity\":0.2},\"type\":\"scatter\"}],\"parcoords\":[{\"type\":\"parcoords\",\"line\":{\"colorbar\":{\"outlinewidth\":0,\"ticks\":\"\"}}}],\"scatterpolargl\":[{\"type\":\"scatterpolargl\",\"marker\":{\"colorbar\":{\"outlinewidth\":0,\"ticks\":\"\"}}}],\"bar\":[{\"error_x\":{\"color\":\"#2a3f5f\"},\"error_y\":{\"color\":\"#2a3f5f\"},\"marker\":{\"line\":{\"color\":\"#E5ECF6\",\"width\":0.5},\"pattern\":{\"fillmode\":\"overlay\",\"size\":10,\"solidity\":0.2}},\"type\":\"bar\"}],\"scattergeo\":[{\"type\":\"scattergeo\",\"marker\":{\"colorbar\":{\"outlinewidth\":0,\"ticks\":\"\"}}}],\"scatterpolar\":[{\"type\":\"scatterpolar\",\"marker\":{\"colorbar\":{\"outlinewidth\":0,\"ticks\":\"\"}}}],\"histogram\":[{\"marker\":{\"pattern\":{\"fillmode\":\"overlay\",\"size\":10,\"solidity\":0.2}},\"type\":\"histogram\"}],\"scattergl\":[{\"type\":\"scattergl\",\"marker\":{\"colorbar\":{\"outlinewidth\":0,\"ticks\":\"\"}}}],\"scatter3d\":[{\"type\":\"scatter3d\",\"line\":{\"colorbar\":{\"outlinewidth\":0,\"ticks\":\"\"}},\"marker\":{\"colorbar\":{\"outlinewidth\":0,\"ticks\":\"\"}}}],\"scattermapbox\":[{\"type\":\"scattermapbox\",\"marker\":{\"colorbar\":{\"outlinewidth\":0,\"ticks\":\"\"}}}],\"scatterternary\":[{\"type\":\"scatterternary\",\"marker\":{\"colorbar\":{\"outlinewidth\":0,\"ticks\":\"\"}}}],\"scattercarpet\":[{\"type\":\"scattercarpet\",\"marker\":{\"colorbar\":{\"outlinewidth\":0,\"ticks\":\"\"}}}],\"carpet\":[{\"aaxis\":{\"endlinecolor\":\"#2a3f5f\",\"gridcolor\":\"white\",\"linecolor\":\"white\",\"minorgridcolor\":\"white\",\"startlinecolor\":\"#2a3f5f\"},\"baxis\":{\"endlinecolor\":\"#2a3f5f\",\"gridcolor\":\"white\",\"linecolor\":\"white\",\"minorgridcolor\":\"white\",\"startlinecolor\":\"#2a3f5f\"},\"type\":\"carpet\"}],\"table\":[{\"cells\":{\"fill\":{\"color\":\"#EBF0F8\"},\"line\":{\"color\":\"white\"}},\"header\":{\"fill\":{\"color\":\"#C8D4E3\"},\"line\":{\"color\":\"white\"}},\"type\":\"table\"}],\"barpolar\":[{\"marker\":{\"line\":{\"color\":\"#E5ECF6\",\"width\":0.5},\"pattern\":{\"fillmode\":\"overlay\",\"size\":10,\"solidity\":0.2}},\"type\":\"barpolar\"}],\"pie\":[{\"automargin\":true,\"type\":\"pie\"}]},\"layout\":{\"autotypenumbers\":\"strict\",\"colorway\":[\"#636efa\",\"#EF553B\",\"#00cc96\",\"#ab63fa\",\"#FFA15A\",\"#19d3f3\",\"#FF6692\",\"#B6E880\",\"#FF97FF\",\"#FECB52\"],\"font\":{\"color\":\"#2a3f5f\"},\"hovermode\":\"closest\",\"hoverlabel\":{\"align\":\"left\"},\"paper_bgcolor\":\"white\",\"plot_bgcolor\":\"#E5ECF6\",\"polar\":{\"bgcolor\":\"#E5ECF6\",\"angularaxis\":{\"gridcolor\":\"white\",\"linecolor\":\"white\",\"ticks\":\"\"},\"radialaxis\":{\"gridcolor\":\"white\",\"linecolor\":\"white\",\"ticks\":\"\"}},\"ternary\":{\"bgcolor\":\"#E5ECF6\",\"aaxis\":{\"gridcolor\":\"white\",\"linecolor\":\"white\",\"ticks\":\"\"},\"baxis\":{\"gridcolor\":\"white\",\"linecolor\":\"white\",\"ticks\":\"\"},\"caxis\":{\"gridcolor\":\"white\",\"linecolor\":\"white\",\"ticks\":\"\"}},\"coloraxis\":{\"colorbar\":{\"outlinewidth\":0,\"ticks\":\"\"}},\"colorscale\":{\"sequential\":[[0.0,\"#0d0887\"],[0.1111111111111111,\"#46039f\"],[0.2222222222222222,\"#7201a8\"],[0.3333333333333333,\"#9c179e\"],[0.4444444444444444,\"#bd3786\"],[0.5555555555555556,\"#d8576b\"],[0.6666666666666666,\"#ed7953\"],[0.7777777777777778,\"#fb9f3a\"],[0.8888888888888888,\"#fdca26\"],[1.0,\"#f0f921\"]],\"sequentialminus\":[[0.0,\"#0d0887\"],[0.1111111111111111,\"#46039f\"],[0.2222222222222222,\"#7201a8\"],[0.3333333333333333,\"#9c179e\"],[0.4444444444444444,\"#bd3786\"],[0.5555555555555556,\"#d8576b\"],[0.6666666666666666,\"#ed7953\"],[0.7777777777777778,\"#fb9f3a\"],[0.8888888888888888,\"#fdca26\"],[1.0,\"#f0f921\"]],\"diverging\":[[0,\"#8e0152\"],[0.1,\"#c51b7d\"],[0.2,\"#de77ae\"],[0.3,\"#f1b6da\"],[0.4,\"#fde0ef\"],[0.5,\"#f7f7f7\"],[0.6,\"#e6f5d0\"],[0.7,\"#b8e186\"],[0.8,\"#7fbc41\"],[0.9,\"#4d9221\"],[1,\"#276419\"]]},\"xaxis\":{\"gridcolor\":\"white\",\"linecolor\":\"white\",\"ticks\":\"\",\"title\":{\"standoff\":15},\"zerolinecolor\":\"white\",\"automargin\":true,\"zerolinewidth\":2},\"yaxis\":{\"gridcolor\":\"white\",\"linecolor\":\"white\",\"ticks\":\"\",\"title\":{\"standoff\":15},\"zerolinecolor\":\"white\",\"automargin\":true,\"zerolinewidth\":2},\"scene\":{\"xaxis\":{\"backgroundcolor\":\"#E5ECF6\",\"gridcolor\":\"white\",\"linecolor\":\"white\",\"showbackground\":true,\"ticks\":\"\",\"zerolinecolor\":\"white\",\"gridwidth\":2},\"yaxis\":{\"backgroundcolor\":\"#E5ECF6\",\"gridcolor\":\"white\",\"linecolor\":\"white\",\"showbackground\":true,\"ticks\":\"\",\"zerolinecolor\":\"white\",\"gridwidth\":2},\"zaxis\":{\"backgroundcolor\":\"#E5ECF6\",\"gridcolor\":\"white\",\"linecolor\":\"white\",\"showbackground\":true,\"ticks\":\"\",\"zerolinecolor\":\"white\",\"gridwidth\":2}},\"shapedefaults\":{\"line\":{\"color\":\"#2a3f5f\"}},\"annotationdefaults\":{\"arrowcolor\":\"#2a3f5f\",\"arrowhead\":0,\"arrowwidth\":1},\"geo\":{\"bgcolor\":\"white\",\"landcolor\":\"#E5ECF6\",\"subunitcolor\":\"white\",\"showland\":true,\"showlakes\":true,\"lakecolor\":\"white\"},\"title\":{\"x\":0.05},\"mapbox\":{\"style\":\"light\"}}},\"mapbox\":{\"domain\":{\"x\":[0.0,1.0],\"y\":[0.0,1.0]},\"center\":{\"lat\":44.564668379945886,\"lon\":-123.26168173882944},\"zoom\":12,\"style\":\"open-street-map\"},\"legend\":{\"tracegroupgap\":0},\"margin\":{\"t\":0,\"r\":0,\"l\":0,\"b\":0},\"title\":{\"text\":\"Map of Corvallis with Sample Points\"}},                        {\"responsive\": true}                    ).then(function(){\n",
       "                            \n",
       "var gd = document.getElementById('5906de3a-4b90-4b9a-b545-2e5609ab2f4d');\n",
       "var x = new MutationObserver(function (mutations, observer) {{\n",
       "        var display = window.getComputedStyle(gd).display;\n",
       "        if (!display || display === 'none') {{\n",
       "            console.log([gd, 'removed!']);\n",
       "            Plotly.purge(gd);\n",
       "            observer.disconnect();\n",
       "        }}\n",
       "}});\n",
       "\n",
       "// Listen for the removal of the full notebook cells\n",
       "var notebookContainer = gd.closest('#notebook-container');\n",
       "if (notebookContainer) {{\n",
       "    x.observe(notebookContainer, {childList: true});\n",
       "}}\n",
       "\n",
       "// Listen for the clearing of the current output cell\n",
       "var outputEl = gd.closest('.output');\n",
       "if (outputEl) {{\n",
       "    x.observe(outputEl, {childList: true});\n",
       "}}\n",
       "\n",
       "                        })                };                });            </script>        </div>"
      ]
     },
     "metadata": {},
     "output_type": "display_data"
    }
   ],
   "source": [
    "# Map Cell\n",
    "\n",
    "# Code to display a map of Corvallis with random points using Plotly with OSM style\n",
    "# ConvertToPDFImage\n",
    "\n",
    "# Sample data around Corvallis\n",
    "num_points = 500\n",
    "corvallis_coords = [44.5646, -123.2620]\n",
    "np.random.seed(42)\n",
    "lats = np.random.normal(loc=corvallis_coords[0], scale=0.01, size=num_points)\n",
    "lons = np.random.normal(loc=corvallis_coords[1], scale=0.01, size=num_points)\n",
    "metadata = [f\"Point {i+1}\" for i in range(num_points)]\n",
    "\n",
    "# Create a scatter mapbox to display the points\n",
    "fig = px.scatter_mapbox(lat=lats, lon=lons,\n",
    "                        zoom=12,\n",
    "                        mapbox_style=\"open-street-map\",\n",
    "                        hover_name=metadata)\n",
    "\n",
    "fig.update_layout(margin={\"r\":0,\"t\":0,\"l\":0,\"b\":0},\n",
    "                  title='Map of Corvallis with Sample Points')\n",
    "fig.show()\n"
   ]
  },
  {
   "cell_type": "code",
   "execution_count": 4,
   "id": "dccd5c52",
   "metadata": {
    "execution": {
     "iopub.execute_input": "2023-12-24T00:03:53.913402Z",
     "iopub.status.busy": "2023-12-24T00:03:53.913402Z",
     "iopub.status.idle": "2023-12-24T00:03:54.216607Z",
     "shell.execute_reply": "2023-12-24T00:03:54.216607Z"
    }
   },
   "outputs": [
    {
     "name": "stdout",
     "output_type": "stream",
     "text": [
      "First few posts from user 1:\n"
     ]
    },
    {
     "data": {
      "text/html": [
       "<div>\n",
       "<style scoped>\n",
       "    .dataframe tbody tr th:only-of-type {\n",
       "        vertical-align: middle;\n",
       "    }\n",
       "\n",
       "    .dataframe tbody tr th {\n",
       "        vertical-align: top;\n",
       "    }\n",
       "\n",
       "    .dataframe thead th {\n",
       "        text-align: right;\n",
       "    }\n",
       "</style>\n",
       "<table border=\"1\" class=\"dataframe\">\n",
       "  <thead>\n",
       "    <tr style=\"text-align: right;\">\n",
       "      <th></th>\n",
       "      <th>userId</th>\n",
       "      <th>id</th>\n",
       "      <th>title</th>\n",
       "      <th>body</th>\n",
       "    </tr>\n",
       "  </thead>\n",
       "  <tbody>\n",
       "    <tr>\n",
       "      <th>0</th>\n",
       "      <td>1</td>\n",
       "      <td>1</td>\n",
       "      <td>sunt aut facere repellat provident occaecati e...</td>\n",
       "      <td>quia et suscipit\\nsuscipit recusandae consequu...</td>\n",
       "    </tr>\n",
       "    <tr>\n",
       "      <th>1</th>\n",
       "      <td>1</td>\n",
       "      <td>2</td>\n",
       "      <td>qui est esse</td>\n",
       "      <td>est rerum tempore vitae\\nsequi sint nihil repr...</td>\n",
       "    </tr>\n",
       "    <tr>\n",
       "      <th>2</th>\n",
       "      <td>1</td>\n",
       "      <td>3</td>\n",
       "      <td>ea molestias quasi exercitationem repellat qui...</td>\n",
       "      <td>et iusto sed quo iure\\nvoluptatem occaecati om...</td>\n",
       "    </tr>\n",
       "    <tr>\n",
       "      <th>3</th>\n",
       "      <td>1</td>\n",
       "      <td>4</td>\n",
       "      <td>eum et est occaecati</td>\n",
       "      <td>ullam et saepe reiciendis voluptatem adipisci\\...</td>\n",
       "    </tr>\n",
       "    <tr>\n",
       "      <th>4</th>\n",
       "      <td>1</td>\n",
       "      <td>5</td>\n",
       "      <td>nesciunt quas odio</td>\n",
       "      <td>repudiandae veniam quaerat sunt sed\\nalias aut...</td>\n",
       "    </tr>\n",
       "  </tbody>\n",
       "</table>\n",
       "</div>"
      ],
      "text/plain": [
       "   userId  id                                              title  \\\n",
       "0       1   1  sunt aut facere repellat provident occaecati e...   \n",
       "1       1   2                                       qui est esse   \n",
       "2       1   3  ea molestias quasi exercitationem repellat qui...   \n",
       "3       1   4                               eum et est occaecati   \n",
       "4       1   5                                 nesciunt quas odio   \n",
       "\n",
       "                                                body  \n",
       "0  quia et suscipit\\nsuscipit recusandae consequu...  \n",
       "1  est rerum tempore vitae\\nsequi sint nihil repr...  \n",
       "2  et iusto sed quo iure\\nvoluptatem occaecati om...  \n",
       "3  ullam et saepe reiciendis voluptatem adipisci\\...  \n",
       "4  repudiandae veniam quaerat sunt sed\\nalias aut...  "
      ]
     },
     "metadata": {},
     "output_type": "display_data"
    }
   ],
   "source": [
    "# API Example Cell\n",
    "\n",
    "import requests\n",
    "import pandas as pd\n",
    "\n",
    "# Endpoint for JSONPlaceholder posts\n",
    "url = \"https://jsonplaceholder.typicode.com/posts\"\n",
    "\n",
    "# Fetching posts from user with id 1\n",
    "params = {'userId': 1}\n",
    "\n",
    "response = requests.get(url, params=params)\n",
    "data = response.json()\n",
    "\n",
    "# Convert the JSON data to a DataFrame and display the first few rows\n",
    "if response.status_code == 200 and data:\n",
    "    df = pd.DataFrame(data)\n",
    "    print(\"First few posts from user 1:\")\n",
    "    display(df.head())  # Show the first few rows of the DataFrame\n",
    "else:\n",
    "    print(\"Failed to retrieve data\")\n"
   ]
  },
  {
   "cell_type": "code",
   "execution_count": 5,
   "id": "6bc473b1",
   "metadata": {
    "execution": {
     "iopub.execute_input": "2023-12-24T00:03:54.218614Z",
     "iopub.status.busy": "2023-12-24T00:03:54.218614Z",
     "iopub.status.idle": "2023-12-24T00:03:54.221131Z",
     "shell.execute_reply": "2023-12-24T00:03:54.221131Z"
    }
   },
   "outputs": [
    {
     "name": "stdout",
     "output_type": "stream",
     "text": [
      "Summary of the findings and conclusion here.\n"
     ]
    }
   ],
   "source": [
    "# Conclusion\n",
    "print('Summary of the findings and conclusion here.')"
   ]
  }
 ],
 "metadata": {
  "language_info": {
   "codemirror_mode": {
    "name": "ipython",
    "version": 3
   },
   "file_extension": ".py",
   "mimetype": "text/x-python",
   "name": "python",
   "nbconvert_exporter": "python",
   "pygments_lexer": "ipython3",
   "version": "3.11.5"
  }
 },
 "nbformat": 4,
 "nbformat_minor": 5
}
